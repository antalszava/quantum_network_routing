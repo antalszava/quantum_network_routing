{
 "cells": [
  {
   "cell_type": "code",
   "execution_count": 1,
   "metadata": {},
   "outputs": [],
   "source": [
    "### Sample function definition from SimulaQron with Docstrings:\n",
    "def __init__(self, name, socket_address=None, cqcFile=None, appFile=None, appID=None, pend_messages=False):\n",
    "    \"\"\"\n",
    "    Initialize a connection to the cqc server.\n",
    "\n",
    "    - **Arguments**\n",
    "        :param name:        Name of the host.\n",
    "        :param socket_address: tuple (str, int) of ip and port number.\n",
    "        :param cqcFile:    Path to cqcFile. If None, '$NETSIM/config/cqcNodes.cfg is used, unless socket_address\n",
    "        :param appFile:    Path to appFile. If None, '$NETSIM/config/appNodes.cfg is used.\n",
    "        :param appID:        Application ID. If set to None, defaults to a nonused ID.\n",
    "        :param pend_messages: True if you want to wait with sending messages to the back end.\n",
    "                Use flush() to send all pending messages in one go as a sequence to the server\n",
    "    \"\"\""
   ]
  },
  {
   "cell_type": "markdown",
   "metadata": {},
   "source": [
    "# Setting the values for constants\n",
    "* inf: as a default distance to nodes\n",
    "* time_threshold: threshold time for the rebuilding of the quantum link\n",
    "* original_capacity: original capacity of the quantum link\n",
    "* Edge: create Edge object of the graph"
   ]
  },
  {
   "cell_type": "code",
   "execution_count": 2,
   "metadata": {},
   "outputs": [],
   "source": [
    "inf = float('inf')\n",
    "time_threshold = 10000\n",
    "original_capacity = 4\n",
    "rebuild_probability = 0.25\n",
    "number_of_nodes = 32"
   ]
  },
  {
   "cell_type": "code",
   "execution_count": 3,
   "metadata": {},
   "outputs": [],
   "source": [
    "# Importing packages\n",
    "import os, time, random, logging, logging.handlers\n",
    "from collections import deque, namedtuple\n",
    "from datetime import datetime\n",
    "\n",
    "# Setting up logging\n",
    "logging.basicConfig(filename='dijkstra.log',level=logging.DEBUG,\n",
    "                    filemode='w')"
   ]
  },
  {
   "cell_type": "markdown",
   "metadata": {},
   "source": [
    "# The Graph class"
   ]
  },
  {
   "cell_type": "code",
   "execution_count": 4,
   "metadata": {},
   "outputs": [],
   "source": [
    "# Edge object of a graph\n",
    "Edge = namedtuple('edge', 'end, capacity')\n",
    "\n",
    "# Method adding an edge in the graph\n",
    "def make_edge(start, end, capacity=original_capacity):\n",
    "    return Edge(start, end, capacity)\n",
    "\n",
    "def make_backward_edge(start, end, capacity=original_capacity):\n",
    "    return Edge(end, start, capacity)"
   ]
  },
  {
   "cell_type": "code",
   "execution_count": 5,
   "metadata": {},
   "outputs": [],
   "source": [
    "class Vertex:\n",
    "    def __init__(self, vertex):\n",
    "        self.name = vertex\n",
    "        self.neighbours = set()\n",
    "\n",
    "    # Storing the indices of neighbouring vertices\n",
    "    def add_neighbour(self, neighbour, capacity=original_capacity):\n",
    "            if neighbour not in self.neighbours:\n",
    "                self.neighbours.add(Edge(neighbour,capacity))\n",
    "            else:\n",
    "                return False\n",
    "        \n",
    "    def add_neighbours(self, neighbours):\n",
    "        for neighbour in neighbours:\n",
    "            self.add_neighbour(neighbour)\n",
    "        \n",
    "    def __repr__(self):\n",
    "        return str(self.neighbours)\n",
    "\n",
    "\n",
    "class Graph:\n",
    "    \n",
    "    # Check that the arguments are valid\n",
    "    def __init__(self, edges = None, capacity = None):\n",
    "        self.Vertices = {}\n",
    "\n",
    "        if edges is not None:\n",
    "            wrong_edges = [i for i in edges if len(i) not in [2, 4]]\n",
    "            if wrong_edges:\n",
    "                raise ValueError('Wrong edges data: %s', wrong_edges)\n",
    "            \n",
    "            # Adding bidirectional links\n",
    "            for current_edge in edges:\n",
    "\n",
    "                # Adding onward link\n",
    "                if(current_edge[0] not in self.Vertices.keys()):\n",
    "                    self.Vertices[current_edge[0]] = Vertex(current_edge[0])\n",
    "                \n",
    "                self.Vertices[current_edge[0]].add_neighbour(current_edge[1], original_capacity)\n",
    "\n",
    "                # Adding backward link\n",
    "                if(current_edge[1] not in self.Vertices.keys()):\n",
    "                    self.Vertices[current_edge[1]] = Vertex(current_edge[1])\n",
    "\n",
    "                self.Vertices[current_edge[1]].add_neighbour(current_edge[0], original_capacity)\n",
    "\n",
    "    # Properties of the class\n",
    "    @property\n",
    "    def vertices(self):\n",
    "        return list(self.Vertices.keys())\n",
    "\n",
    "    @property\n",
    "    def neighbours(self):\n",
    "        return self.Vertices\n",
    "\n",
    "    def add_vertex(self, vertex):\n",
    "        if isinstance(vertex, Vertex):\n",
    "            self.Vertices[vertex.name] = vertex.neighbours\n",
    "            \n",
    "    def add_vertices(self, vertices):\n",
    "        for vertex in vertices:\n",
    "            self.add_vertex(vertex)"
   ]
  },
  {
   "cell_type": "code",
   "execution_count": 6,
   "metadata": {},
   "outputs": [],
   "source": [
    "# Get current capacity of a specific link\n",
    "def link_capacity(self, startNode, endNode):\n",
    "\n",
    "    # Assembling node pairs into a list\n",
    "    node_pairs = [[startNode, endNode], [endNode, startNode]]\n",
    "    edges = self.edges[:]\n",
    "    for this_edge in edges:\n",
    "        if [this_edge.start, this_edge.end] in node_pairs:\n",
    "            return this_edge.capacity\n",
    "\n",
    "# Adds a link to the network specified by a pair of nodes, the capacity\n",
    "# Assembling node pairs into a list\n",
    "def add_link(self, startNode, endNode, capacity=original_capacity):\n",
    "\n",
    "    node_pairs = [[startNode, endNode], [endNode, startNode]]\n",
    "    edges = self.edges[:]\n",
    "    for this_edge in edges:\n",
    "        if [this_edge.start, this_edge.end] in node_pairs:\n",
    "            self.edges.remove(this_edge)\n",
    "\n",
    "            #Add bidirectional link\n",
    "            self.edges.append(Edge(startNode, endNode, capacity))\n",
    "            self.edges.append(Edge(endNode, startNode, capacity))\n",
    "\n",
    "def rebuild_link(self, startNode, endNode, capacity=original_capacity):\n",
    "    sleep(time_threshold)\n",
    "    self.add_link(startNode, endNode, capacity)\n",
    "    logging.debug('Link between %s and %s has been rebuilt.', startNode, endNode)\n",
    "\n",
    "# Remove a link specified by the start and end node\n",
    "def remove_link(self, startNode, endNode):\n",
    "\n",
    "    node_pairs = [[startNode, endNode], [endNode, startNode]]\n",
    "    edges = self.edges[:]\n",
    "    for this_edge in edges:\n",
    "        if [this_edge.start, this_edge.end] in node_pairs:\n",
    "\n",
    "            self.edges.remove(this_edge)\n",
    "            self.edges.append(make_edge(this_edge.start, this_edge.end,this_edge.capacity-1))\n",
    "\n",
    "# Processes a source-destination pair of distance one of the current path\n",
    "# by checking the capacity of the link between the start and the end node\n",
    "#\n",
    "# If the capacity is 0, then a probabilistic rebuild approach is used\n",
    "#\n",
    "# Returns the elapsed time that was needed to process the particular source-destination pair\n",
    "def process_step(self, startNode, endNode):\n",
    "\n",
    "    local_edt = 0\n",
    "    # If the capacity of the link is 0, then\n",
    "    # do probabilistic rebuilding\n",
    "    # \n",
    "    # Else: \n",
    "    # Consumes a link from the remaining ones\n",
    "    # Alternatively: add the threshold waiting time for rebuilding\n",
    "\n",
    "    if self.link_capacity(startNode,endNode) == 0:\n",
    "\n",
    "        classical_distance = abs(startNode-endNode)\n",
    "        #print(\"Start node: \", startNode)\n",
    "        #print(\"End node: \", endNode)\n",
    "        #print(classical_distance)\n",
    "        for x in range(1,classical_distance + 1):\n",
    "            #Probabilistic link creation\n",
    "            while(rebuild_probability*100<random.randint(1,100)):\n",
    "                local_edt += 1\n",
    "    else:\n",
    "\n",
    "        #Remove the link between startNode and endNode\n",
    "        self.remove_link(startNode,endNode)\n",
    "\n",
    "        #Incrementing the entanglement delay time\n",
    "        local_edt += 1\n",
    "\n",
    "    return local_edt\n",
    "\n",
    "# Works through a source-destination pair by traversing through the nodes in between and adding the elapsed time\n",
    "#\n",
    "# Calls on the process_step method as many times as big the distance between the source and the destination is\n",
    "def process_path(self, currentPath):\n",
    "\n",
    "    logging.debug('current path: %s', currentPath)\n",
    "\n",
    "    #Initializing entanglement delay time\n",
    "    edt = 0\n",
    "\n",
    "    #Take the leftmost two nodes out of the deque and get the edt until we are finished\n",
    "    while True:\n",
    "        startNode = currentPath.popleft()\n",
    "        endNode = currentPath.popleft()\n",
    "        edt += self.process_step(startNode,endNode)\n",
    "        currentPath.appendleft(endNode)\n",
    "        if (len(currentPath))==1:     \n",
    "            return edt\n",
    "\n",
    "# Method calculating the shortest path Dijkstra algorithm from a given source node to the destination\n",
    "def dijkstra(self, source, dest):\n",
    "\n",
    "    #Checking if the given source is existing or not\n",
    "    #assert source in self.vertices, 'Such source node doesn\\'t exist'\n",
    "\n",
    "    #Running the Initialize-Single-Source procedure\n",
    "    distances = {vertex: inf for vertex in self.vertices}\n",
    "    previous_vertices = {\n",
    "        vertex: None for vertex in self.vertices\n",
    "    }\n",
    "    distances[source] = 0\n",
    "    vertices = self.vertices.copy()\n",
    "\n",
    "    #picking each vertex out of the min-priority deque\n",
    "    while vertices:\n",
    "        current_vertex = min(\n",
    "            vertices, key=lambda vertex: distances[vertex])\n",
    "        vertices.remove(current_vertex)\n",
    "\n",
    "        #Relaxation procedure\n",
    "        if distances[current_vertex] == inf:\n",
    "            break\n",
    "        for neighbour in self.neighbours[current_vertex]:\n",
    "            alternative_route = distances[current_vertex] + 1\n",
    "            if alternative_route < distances[neighbour]:\n",
    "                distances[neighbour] = alternative_route\n",
    "                previous_vertices[neighbour] = current_vertex\n",
    "\n",
    "    path, current_vertex = deque(), dest\n",
    "    while previous_vertices[current_vertex] is not None:\n",
    "        path.appendleft(current_vertex)\n",
    "        current_vertex = previous_vertices[current_vertex]\n",
    "    if path:\n",
    "        path.appendleft(current_vertex)\n",
    "    return path"
   ]
  },
  {
   "cell_type": "code",
   "execution_count": 7,
   "metadata": {},
   "outputs": [],
   "source": [
    "# Generates random source-destination pairs\n",
    "# The number of source-destination pairs is given by the argument\n",
    "def gen_rand_pairs(number_of_pairs):\n",
    "    result = []\n",
    "    for x in range(number_of_pairs):\n",
    "        source = random.randint(1,number_of_nodes)\n",
    "        dest = random.randint(1,number_of_nodes)\n",
    "        while source == dest:\n",
    "            dest = random.randint(1,number_of_nodes)\n",
    "        result += [[source,dest]]\n",
    "    return result\n",
    "\n",
    "# Generates source-destination pairs and finds the nodes in between them by calling on the dijkstra method\n",
    "def initialize_paths(graph, number_of_source_destination_pairs):\n",
    "\n",
    "    #Generate random pairs of nodes between which we are seeking a path\n",
    "    randPairs = gen_rand_pairs(number_of_source_destination_pairs)\n",
    "    #print(randPairs)\n",
    "    \n",
    "    #Assemble paths into one deque\n",
    "    paths = deque()\n",
    "    for pair in randPairs:\n",
    "        paths.appendleft(graph.dijkstra(pair[0],pair[1]))\n",
    "    return paths\n",
    "\n",
    "# Sending packets based on the generated source destination pairs\n",
    "# Processes these pairs by calling the process_path method on the next path\n",
    "# Processes each of the paths stored in the deque and pushes the result edt into a store\n",
    "def send_packets(graph, paths):\n",
    "\n",
    "    edt_store = []\n",
    "\n",
    "    while True:\n",
    "\n",
    "        #Process the next path in the deque\n",
    "        currentPath = paths.popleft()\n",
    "        logging.debug('current method: send_packets')\n",
    "        edt_store.append(graph.process_path(currentPath))\n",
    "        if(len(paths)==0):\n",
    "            return edt_store\n",
    "        \n",
    "def main(graph, number_of_source_destination_pairs):\n",
    "    \n",
    "    start = time.time()\n",
    "    path_store = initialize_paths(graph, number_of_source_destination_pairs)\n",
    "    \n",
    "    # Storing the distances of the paths\n",
    "    distance_store = []\n",
    "    for x in path_store:\n",
    "        distance_store.append(len(x))\n",
    "    # Calculating the entanglement delay times\n",
    "    edts = send_packets(graph, path_store)\n",
    "    \n",
    "    \n",
    "    end = time.time()  \n",
    "    logging.debug(\"Total time: %s\", (end - start))\n",
    "    logging.debug(graph.edges)\n",
    "    return [edts,distance_store]"
   ]
  },
  {
   "cell_type": "markdown",
   "metadata": {},
   "source": [
    "# Graph definitions"
   ]
  },
  {
   "cell_type": "markdown",
   "metadata": {},
   "source": [
    "### Graph 1"
   ]
  },
  {
   "cell_type": "code",
   "execution_count": 8,
   "metadata": {},
   "outputs": [],
   "source": [
    "graph1 = Graph(\n",
    "    \n",
    "    #Iniating the edges of 0) type: 1->2, 2->3, ... 31->32, 32->1 (circular graph)\n",
    "    [(x,x+1) for x in range(1,number_of_nodes)] + [(number_of_nodes,1)]\n",
    ")\n",
    "\n",
    "#The edges created for the first graph:\n",
    "#print([(getattr(x, 'start'), getattr(x, 'end')) for x in graph1.edges])"
   ]
  },
  {
   "cell_type": "code",
   "execution_count": 9,
   "metadata": {},
   "outputs": [
    {
     "name": "stdout",
     "output_type": "stream",
     "text": [
      "[1, 2, 3, 4, 5, 6, 7, 8, 9, 10, 11, 12, 13, 14, 15, 16, 17, 18, 19, 20, 21, 22, 23, 24, 25, 26, 27, 28, 29, 30, 31, 32]\n",
      "{1: {edge(end=2, capacity=4), edge(end=32, capacity=4)}, 2: {edge(end=3, capacity=4), edge(end=1, capacity=4)}, 3: {edge(end=4, capacity=4), edge(end=2, capacity=4)}, 4: {edge(end=5, capacity=4), edge(end=3, capacity=4)}, 5: {edge(end=6, capacity=4), edge(end=4, capacity=4)}, 6: {edge(end=7, capacity=4), edge(end=5, capacity=4)}, 7: {edge(end=6, capacity=4), edge(end=8, capacity=4)}, 8: {edge(end=7, capacity=4), edge(end=9, capacity=4)}, 9: {edge(end=10, capacity=4), edge(end=8, capacity=4)}, 10: {edge(end=11, capacity=4), edge(end=9, capacity=4)}, 11: {edge(end=12, capacity=4), edge(end=10, capacity=4)}, 12: {edge(end=13, capacity=4), edge(end=11, capacity=4)}, 13: {edge(end=14, capacity=4), edge(end=12, capacity=4)}, 14: {edge(end=15, capacity=4), edge(end=13, capacity=4)}, 15: {edge(end=14, capacity=4), edge(end=16, capacity=4)}, 16: {edge(end=15, capacity=4), edge(end=17, capacity=4)}, 17: {edge(end=18, capacity=4), edge(end=16, capacity=4)}, 18: {edge(end=19, capacity=4), edge(end=17, capacity=4)}, 19: {edge(end=20, capacity=4), edge(end=18, capacity=4)}, 20: {edge(end=21, capacity=4), edge(end=19, capacity=4)}, 21: {edge(end=22, capacity=4), edge(end=20, capacity=4)}, 22: {edge(end=23, capacity=4), edge(end=21, capacity=4)}, 23: {edge(end=22, capacity=4), edge(end=24, capacity=4)}, 24: {edge(end=23, capacity=4), edge(end=25, capacity=4)}, 25: {edge(end=26, capacity=4), edge(end=24, capacity=4)}, 26: {edge(end=27, capacity=4), edge(end=25, capacity=4)}, 27: {edge(end=28, capacity=4), edge(end=26, capacity=4)}, 28: {edge(end=29, capacity=4), edge(end=27, capacity=4)}, 29: {edge(end=30, capacity=4), edge(end=28, capacity=4)}, 30: {edge(end=31, capacity=4), edge(end=29, capacity=4)}, 31: {edge(end=30, capacity=4), edge(end=32, capacity=4)}, 32: {edge(end=31, capacity=4), edge(end=1, capacity=4)}}\n"
     ]
    }
   ],
   "source": [
    "print(graph1.vertices)\n",
    "print(graph1.neighbours)"
   ]
  },
  {
   "cell_type": "markdown",
   "metadata": {},
   "source": [
    "### Graph 2"
   ]
  },
  {
   "cell_type": "code",
   "execution_count": 10,
   "metadata": {},
   "outputs": [],
   "source": [
    "graph2 = Graph(\n",
    "    \n",
    "    #Iniating the edges of 0) type: 1->2, 2->3, ... 31->32, 32->1 (circular graph)\n",
    "    [(x,x+1) for x in range(1,number_of_nodes)] + [(number_of_nodes,1)] +\n",
    "\n",
    "    #Iniating the edges of 1) type: 1->3, 3->5, ... 31->1\n",
    "    #Odd number of nodes  \n",
    "    [(x,x+2) for x in range(1,number_of_nodes+1)\n",
    "             if x % 2 == 1 and x < number_of_nodes and number_of_nodes % 2 == 1] +\n",
    "    \n",
    "    #Even number of nodes\n",
    "    [(x,(x+2) % number_of_nodes) for x in range(1,number_of_nodes+1) if x % 2 == 1 and x < number_of_nodes and number_of_nodes % 2 == 0]\n",
    ")\n",
    "\n",
    "#The edges created for the second graph:\n",
    "#print([(getattr(x, 'start'), getattr(x, 'end')) for x in graph2.edges])"
   ]
  },
  {
   "cell_type": "markdown",
   "metadata": {},
   "source": [
    "### Graph 3"
   ]
  },
  {
   "cell_type": "code",
   "execution_count": 11,
   "metadata": {},
   "outputs": [],
   "source": [
    "graph3 = Graph(\n",
    "    \n",
    "    #Iniating the edges of 0) type: 1->2, 2->3, ... 31->32, 32->1 (circular graph)\n",
    "    [(x,x+1) for x in range(1,number_of_nodes)] + [(number_of_nodes,1)] +\n",
    "\n",
    "    #Iniating the edges of 1) type: 1->3, 3->5, ... 31->1\n",
    "    \n",
    "    #Even number of nodes\n",
    "    [(x,(x+2) % number_of_nodes) for x in range(1,number_of_nodes+1)\n",
    "                                 if x % 2 == 1 and x < number_of_nodes and number_of_nodes % 2 == 0] +\n",
    "        \n",
    "    #Odd number of nodes  \n",
    "    [(x,x+2) for x in range(1,number_of_nodes+1)\n",
    "             if x % 2 == 1 and x < number_of_nodes and number_of_nodes % 2 == 1] +\n",
    "        \n",
    "    #Iniating the edges of 2) type: 1->5, 5->9, ... 29->1\n",
    "    #Number of nodes have 0 as remainder for modulo 4  \n",
    "    [(x,\n",
    "      x+4) for x in range(1,number_of_nodes-3) if x % 4 == 1 and number_of_nodes % 4 == 0] + [(number_of_nodes-3,1) for x in range(1,2) if number_of_nodes % 4 == 0]\n",
    "    \n",
    ")\n",
    "\n",
    "#The edges created for the third graph:\n",
    "#print([(getattr(x, 'start'), getattr(x, 'end')) for x in graph3.edges])"
   ]
  },
  {
   "cell_type": "code",
   "execution_count": 12,
   "metadata": {},
   "outputs": [
    {
     "data": {
      "text/plain": [
       "[1,\n",
       " 2,\n",
       " 3,\n",
       " 4,\n",
       " 5,\n",
       " 6,\n",
       " 7,\n",
       " 8,\n",
       " 9,\n",
       " 10,\n",
       " 11,\n",
       " 12,\n",
       " 13,\n",
       " 14,\n",
       " 15,\n",
       " 16,\n",
       " 17,\n",
       " 18,\n",
       " 19,\n",
       " 20,\n",
       " 21,\n",
       " 22,\n",
       " 23,\n",
       " 24,\n",
       " 25,\n",
       " 26,\n",
       " 27,\n",
       " 28,\n",
       " 29,\n",
       " 30,\n",
       " 31,\n",
       " 32]"
      ]
     },
     "execution_count": 12,
     "metadata": {},
     "output_type": "execute_result"
    }
   ],
   "source": [
    "graph3.vertices"
   ]
  },
  {
   "cell_type": "code",
   "execution_count": 13,
   "metadata": {},
   "outputs": [],
   "source": [
    "def mean(numbers):\n",
    "    return float(sum(numbers)) / max(len(numbers), 1)\n",
    "\n",
    "def loop_main(graph, number):\n",
    "    avg_edts = []\n",
    "    for x in range(1, number+1):\n",
    "        [edts, distances] = main(graph, x)\n",
    "        avg_edts.append(mean(edts))\n",
    "    return [avg_edts, distances]"
   ]
  },
  {
   "cell_type": "markdown",
   "metadata": {},
   "source": [
    "# Define the number of source destination pairs"
   ]
  },
  {
   "cell_type": "code",
   "execution_count": 14,
   "metadata": {},
   "outputs": [],
   "source": [
    "number_of_sd_pairs = 50\n",
    "number_of_samples = 10"
   ]
  },
  {
   "cell_type": "markdown",
   "metadata": {},
   "source": [
    "# Plotting the results"
   ]
  },
  {
   "cell_type": "code",
   "execution_count": 15,
   "metadata": {},
   "outputs": [],
   "source": [
    "%matplotlib inline\n",
    "import matplotlib.pyplot as plt"
   ]
  },
  {
   "cell_type": "markdown",
   "metadata": {},
   "source": [
    "### Calculating average edts and distances"
   ]
  },
  {
   "cell_type": "code",
   "execution_count": 16,
   "metadata": {},
   "outputs": [],
   "source": [
    "#Simulation for more than one run of the loop_main\n",
    "def do_simulation(graph, sd_pair, samples):\n",
    "    [local_edts,local_distances] = loop_main(graph, sd_pair)\n",
    "    \n",
    "    #Iterating through the remaining simulation rounds\n",
    "    for x in range(1,samples):\n",
    "        [next_edts,next_distances] = loop_main(graph, sd_pair)\n",
    "        \n",
    "        #Summing up the values obtained in each round\n",
    "        local_edts = [sum(x) for x in zip(local_edts, next_edts)]\n",
    "        local_distances = [sum(x) for x in zip(local_distances, next_distances)]\n",
    "    \n",
    "    #Returning the average of the result values\n",
    "    return [[x/samples for x in local_edts],[x/samples for x in local_distances]]"
   ]
  },
  {
   "cell_type": "code",
   "execution_count": 32,
   "metadata": {},
   "outputs": [
    {
     "ename": "AttributeError",
     "evalue": "'Graph' object has no attribute 'dijkstra'",
     "output_type": "error",
     "traceback": [
      "\u001b[0;31m---------------------------------------------------------------------------\u001b[0m",
      "\u001b[0;31mAttributeError\u001b[0m                            Traceback (most recent call last)",
      "\u001b[0;32m<ipython-input-32-1da95dd51f00>\u001b[0m in \u001b[0;36m<module>\u001b[0;34m()\u001b[0m\n\u001b[0;32m----> 1\u001b[0;31m \u001b[0;34m[\u001b[0m\u001b[0mavg_edts1\u001b[0m\u001b[0;34m,\u001b[0m \u001b[0mdistances1\u001b[0m\u001b[0;34m]\u001b[0m \u001b[0;34m=\u001b[0m \u001b[0mdo_simulation\u001b[0m\u001b[0;34m(\u001b[0m\u001b[0mgraph1\u001b[0m\u001b[0;34m,\u001b[0m \u001b[0mnumber_of_sd_pairs\u001b[0m\u001b[0;34m,\u001b[0m \u001b[0mnumber_of_samples\u001b[0m\u001b[0;34m)\u001b[0m\u001b[0;34m\u001b[0m\u001b[0m\n\u001b[0m\u001b[1;32m      2\u001b[0m \u001b[0;34m[\u001b[0m\u001b[0mavg_edts2\u001b[0m\u001b[0;34m,\u001b[0m \u001b[0mdistances2\u001b[0m\u001b[0;34m]\u001b[0m \u001b[0;34m=\u001b[0m \u001b[0mdo_simulation\u001b[0m\u001b[0;34m(\u001b[0m\u001b[0mgraph2\u001b[0m\u001b[0;34m,\u001b[0m \u001b[0mnumber_of_sd_pairs\u001b[0m\u001b[0;34m,\u001b[0m \u001b[0mnumber_of_samples\u001b[0m\u001b[0;34m)\u001b[0m\u001b[0;34m\u001b[0m\u001b[0m\n\u001b[1;32m      3\u001b[0m \u001b[0;34m[\u001b[0m\u001b[0mavg_edts3\u001b[0m\u001b[0;34m,\u001b[0m \u001b[0mdistances3\u001b[0m\u001b[0;34m]\u001b[0m \u001b[0;34m=\u001b[0m \u001b[0mdo_simulation\u001b[0m\u001b[0;34m(\u001b[0m\u001b[0mgraph3\u001b[0m\u001b[0;34m,\u001b[0m \u001b[0mnumber_of_sd_pairs\u001b[0m\u001b[0;34m,\u001b[0m \u001b[0mnumber_of_samples\u001b[0m\u001b[0;34m)\u001b[0m\u001b[0;34m\u001b[0m\u001b[0m\n",
      "\u001b[0;32m<ipython-input-31-ac51ecf23399>\u001b[0m in \u001b[0;36mdo_simulation\u001b[0;34m(graph, sd_pair, samples)\u001b[0m\n\u001b[1;32m      1\u001b[0m \u001b[0;31m#Simulation for more than one run of the loop_main\u001b[0m\u001b[0;34m\u001b[0m\u001b[0;34m\u001b[0m\u001b[0m\n\u001b[1;32m      2\u001b[0m \u001b[0;32mdef\u001b[0m \u001b[0mdo_simulation\u001b[0m\u001b[0;34m(\u001b[0m\u001b[0mgraph\u001b[0m\u001b[0;34m,\u001b[0m \u001b[0msd_pair\u001b[0m\u001b[0;34m,\u001b[0m \u001b[0msamples\u001b[0m\u001b[0;34m)\u001b[0m\u001b[0;34m:\u001b[0m\u001b[0;34m\u001b[0m\u001b[0m\n\u001b[0;32m----> 3\u001b[0;31m     \u001b[0;34m[\u001b[0m\u001b[0mlocal_edts\u001b[0m\u001b[0;34m,\u001b[0m\u001b[0mlocal_distances\u001b[0m\u001b[0;34m]\u001b[0m \u001b[0;34m=\u001b[0m \u001b[0mloop_main\u001b[0m\u001b[0;34m(\u001b[0m\u001b[0mgraph\u001b[0m\u001b[0;34m,\u001b[0m \u001b[0msd_pair\u001b[0m\u001b[0;34m)\u001b[0m\u001b[0;34m\u001b[0m\u001b[0m\n\u001b[0m\u001b[1;32m      4\u001b[0m \u001b[0;34m\u001b[0m\u001b[0m\n\u001b[1;32m      5\u001b[0m     \u001b[0;31m#Iterating through the remaining simulation rounds\u001b[0m\u001b[0;34m\u001b[0m\u001b[0;34m\u001b[0m\u001b[0m\n",
      "\u001b[0;32m<ipython-input-28-a62cec2e7b8d>\u001b[0m in \u001b[0;36mloop_main\u001b[0;34m(graph, number)\u001b[0m\n\u001b[1;32m      5\u001b[0m     \u001b[0mavg_edts\u001b[0m \u001b[0;34m=\u001b[0m \u001b[0;34m[\u001b[0m\u001b[0;34m]\u001b[0m\u001b[0;34m\u001b[0m\u001b[0m\n\u001b[1;32m      6\u001b[0m     \u001b[0;32mfor\u001b[0m \u001b[0mx\u001b[0m \u001b[0;32min\u001b[0m \u001b[0mrange\u001b[0m\u001b[0;34m(\u001b[0m\u001b[0;36m1\u001b[0m\u001b[0;34m,\u001b[0m \u001b[0mnumber\u001b[0m\u001b[0;34m+\u001b[0m\u001b[0;36m1\u001b[0m\u001b[0;34m)\u001b[0m\u001b[0;34m:\u001b[0m\u001b[0;34m\u001b[0m\u001b[0m\n\u001b[0;32m----> 7\u001b[0;31m         \u001b[0;34m[\u001b[0m\u001b[0medts\u001b[0m\u001b[0;34m,\u001b[0m \u001b[0mdistances\u001b[0m\u001b[0;34m]\u001b[0m \u001b[0;34m=\u001b[0m \u001b[0mmain\u001b[0m\u001b[0;34m(\u001b[0m\u001b[0mgraph\u001b[0m\u001b[0;34m,\u001b[0m \u001b[0mx\u001b[0m\u001b[0;34m)\u001b[0m\u001b[0;34m\u001b[0m\u001b[0m\n\u001b[0m\u001b[1;32m      8\u001b[0m         \u001b[0mavg_edts\u001b[0m\u001b[0;34m.\u001b[0m\u001b[0mappend\u001b[0m\u001b[0;34m(\u001b[0m\u001b[0mmean\u001b[0m\u001b[0;34m(\u001b[0m\u001b[0medts\u001b[0m\u001b[0;34m)\u001b[0m\u001b[0;34m)\u001b[0m\u001b[0;34m\u001b[0m\u001b[0m\n\u001b[1;32m      9\u001b[0m     \u001b[0;32mreturn\u001b[0m \u001b[0;34m[\u001b[0m\u001b[0mavg_edts\u001b[0m\u001b[0;34m,\u001b[0m \u001b[0mdistances\u001b[0m\u001b[0;34m]\u001b[0m\u001b[0;34m\u001b[0m\u001b[0m\n",
      "\u001b[0;32m<ipython-input-20-3d5635bcdc00>\u001b[0m in \u001b[0;36mmain\u001b[0;34m(graph, number_of_source_destination_pairs)\u001b[0m\n\u001b[1;32m     43\u001b[0m \u001b[0;34m\u001b[0m\u001b[0m\n\u001b[1;32m     44\u001b[0m     \u001b[0mstart\u001b[0m \u001b[0;34m=\u001b[0m \u001b[0mtime\u001b[0m\u001b[0;34m.\u001b[0m\u001b[0mtime\u001b[0m\u001b[0;34m(\u001b[0m\u001b[0;34m)\u001b[0m\u001b[0;34m\u001b[0m\u001b[0m\n\u001b[0;32m---> 45\u001b[0;31m     \u001b[0mpath_store\u001b[0m \u001b[0;34m=\u001b[0m \u001b[0minitialize_paths\u001b[0m\u001b[0;34m(\u001b[0m\u001b[0mgraph\u001b[0m\u001b[0;34m,\u001b[0m \u001b[0mnumber_of_source_destination_pairs\u001b[0m\u001b[0;34m)\u001b[0m\u001b[0;34m\u001b[0m\u001b[0m\n\u001b[0m\u001b[1;32m     46\u001b[0m \u001b[0;34m\u001b[0m\u001b[0m\n\u001b[1;32m     47\u001b[0m     \u001b[0;31m# Storing the distances of the paths\u001b[0m\u001b[0;34m\u001b[0m\u001b[0;34m\u001b[0m\u001b[0m\n",
      "\u001b[0;32m<ipython-input-20-3d5635bcdc00>\u001b[0m in \u001b[0;36minitialize_paths\u001b[0;34m(graph, number_of_source_destination_pairs)\u001b[0m\n\u001b[1;32m     21\u001b[0m     \u001b[0mpaths\u001b[0m \u001b[0;34m=\u001b[0m \u001b[0mdeque\u001b[0m\u001b[0;34m(\u001b[0m\u001b[0;34m)\u001b[0m\u001b[0;34m\u001b[0m\u001b[0m\n\u001b[1;32m     22\u001b[0m     \u001b[0;32mfor\u001b[0m \u001b[0mpair\u001b[0m \u001b[0;32min\u001b[0m \u001b[0mrandPairs\u001b[0m\u001b[0;34m:\u001b[0m\u001b[0;34m\u001b[0m\u001b[0m\n\u001b[0;32m---> 23\u001b[0;31m         \u001b[0mpaths\u001b[0m\u001b[0;34m.\u001b[0m\u001b[0mappendleft\u001b[0m\u001b[0;34m(\u001b[0m\u001b[0mgraph\u001b[0m\u001b[0;34m.\u001b[0m\u001b[0mdijkstra\u001b[0m\u001b[0;34m(\u001b[0m\u001b[0mpair\u001b[0m\u001b[0;34m[\u001b[0m\u001b[0;36m0\u001b[0m\u001b[0;34m]\u001b[0m\u001b[0;34m,\u001b[0m\u001b[0mpair\u001b[0m\u001b[0;34m[\u001b[0m\u001b[0;36m1\u001b[0m\u001b[0;34m]\u001b[0m\u001b[0;34m)\u001b[0m\u001b[0;34m)\u001b[0m\u001b[0;34m\u001b[0m\u001b[0m\n\u001b[0m\u001b[1;32m     24\u001b[0m     \u001b[0;32mreturn\u001b[0m \u001b[0mpaths\u001b[0m\u001b[0;34m\u001b[0m\u001b[0m\n\u001b[1;32m     25\u001b[0m \u001b[0;34m\u001b[0m\u001b[0m\n",
      "\u001b[0;31mAttributeError\u001b[0m: 'Graph' object has no attribute 'dijkstra'"
     ]
    }
   ],
   "source": [
    "[avg_edts1, distances1] = do_simulation(graph1, number_of_sd_pairs, number_of_samples)\n",
    "[avg_edts2, distances2] = do_simulation(graph2, number_of_sd_pairs, number_of_samples)\n",
    "[avg_edts3, distances3] = do_simulation(graph3, number_of_sd_pairs, number_of_samples)"
   ]
  },
  {
   "cell_type": "markdown",
   "metadata": {},
   "source": [
    "### Plotting the edt results of the three graphs"
   ]
  },
  {
   "cell_type": "code",
   "execution_count": 19,
   "metadata": {
    "scrolled": true
   },
   "outputs": [
    {
     "data": {
      "image/png": "[encoded data removed]",
      "text/plain": [
       "<Figure size 432x288 with 1 Axes>"
      ]
     },
     "metadata": {
      "needs_background": "light"
     },
     "output_type": "display_data"
    }
   ],
   "source": [
    "plt.plot(avg_edts1,color='green', label=\"graph1\")\n",
    "plt.plot(avg_edts2, color='blue', label=\"graph2\")\n",
    "plt.plot(avg_edts3, color='red', label=\"graph3\")\n",
    "plt.grid(color='b', linestyle='-', linewidth=0.1)\n",
    "plt.xlabel('Number of SD pairs')\n",
    "plt.ylabel('Average Time')\n",
    "plt.legend()\n",
    "plt.savefig(str(number_of_sd_pairs) + '_sdpairs_' + str(number_of_samples) + '_samples_edt.png')\n",
    "plt.show()"
   ]
  },
  {
   "cell_type": "markdown",
   "metadata": {},
   "source": [
    "### Plotting the distances for each number of source-destination pairs"
   ]
  },
  {
   "cell_type": "code",
   "execution_count": 20,
   "metadata": {},
   "outputs": [
    {
     "data": {
      "image/png": "[encoded data removed]",
      "text/plain": [
       "<Figure size 432x288 with 1 Axes>"
      ]
     },
     "metadata": {
      "needs_background": "light"
     },
     "output_type": "display_data"
    }
   ],
   "source": [
    "plt.plot(distances1,color='green', label=\"graph1\")\n",
    "plt.plot(distances2, color='blue', label=\"graph2\")\n",
    "plt.plot(distances3, color='red', label=\"graph3\")\n",
    "plt.grid(color='b', linestyle='-', linewidth=0.1)\n",
    "plt.xlabel('Number of SD pairs')\n",
    "plt.ylabel('Distances')\n",
    "plt.legend()\n",
    "plt.savefig(str(number_of_sd_pairs) + '_sdpairs_' + str(number_of_samples) + '_samples_distances.png')\n",
    "plt.show()"
   ]
  },
  {
   "cell_type": "code",
   "execution_count": 33,
   "metadata": {},
   "outputs": [
    {
     "name": "stdout",
     "output_type": "stream",
     "text": [
      "{}\n",
      "\n",
      "{}\n",
      "\n",
      "\n",
      "\n",
      "\n",
      "[\"A:['B', 'C', 'E']\", \"B:['A', 'C', 'D']\", \"C:['A', 'B', 'D', 'E']\", \"D:['B', 'C']\", \"E:['A', 'C']\"]\n",
      "\n",
      "[[0. 1. 1. 0. 1.]\n",
      " [1. 0. 1. 1. 0.]\n",
      " [1. 1. 0. 1. 1.]\n",
      " [0. 1. 1. 0. 0.]\n",
      " [1. 0. 1. 0. 0.]]\n"
     ]
    }
   ],
   "source": [
    "class Vertex:\n",
    "    def __init__(self, vertex):\n",
    "        self.name = vertex\n",
    "        self.neighbors = []\n",
    "    def add_neighbor(self, neighbor):\n",
    "        if isinstance(neighbor, Vertex):\n",
    "            if neighbor.name not in self.neighbors:\n",
    "                self.neighbors.append(neighbor.name)\n",
    "                neighbor.neighbors.append(self.name)\n",
    "                self.neighbors = sorted(self.neighbors)\n",
    "                neighbor.neighbors = sorted(neighbor.neighbors)\n",
    "        else:\n",
    "            return False\n",
    "        \n",
    "    def add_neighbors(self, neighbors):\n",
    "        for neighbor in neighbors:\n",
    "            self.add_neighbor(neighbor)\n",
    "        \n",
    "    def __repr__(self):\n",
    "        return str(self.neighbors)\n",
    "\n",
    "class Graph:\n",
    "    def __init__(self):\n",
    "        self.vertices = {}\n",
    "    \n",
    "    def add_vertex(self, vertex):\n",
    "        if isinstance(vertex, Vertex):\n",
    "            self.vertices[vertex.name] = vertex.neighbors\n",
    "\n",
    "            \n",
    "    def add_vertices(self, vertices):\n",
    "        for vertex in vertices:\n",
    "            self.add_vertex(vertex)\n",
    "            \n",
    "    def add_edge(self, vertex_from, vertex_to):\n",
    "        if isinstance(vertex_from, Vertex) and isinstance(vertex_to, Vertex):\n",
    "            vertex_from.add_neighbor(vertex_to)\n",
    "            if isinstance(vertex_from, Vertex) and isinstance(vertex_to, Vertex):\n",
    "                self.vertices[vertex_from.name] = vertex_from.neighbors\n",
    "                self.vertices[vertex_to.name] = vertex_to.neighbors\n",
    "                \n",
    "    def add_edges(self, edges):\n",
    "        for edge in edges:\n",
    "            self.add_edge(edge[0],edge[1])          \n",
    "    \n",
    "    def adjacencyList(self):\n",
    "        if len(self.vertices) >= 1:\n",
    "                return [str(key) + \":\" + str(self.vertices[key]) for key in self.vertices.keys()]  \n",
    "        else:\n",
    "            return dict()\n",
    "        \n",
    "    def adjacencyMatrix(self):\n",
    "        if len(self.vertices) >= 1:\n",
    "            self.vertex_names = sorted(g.vertices.keys())\n",
    "            self.vertex_indices = dict(zip(self.vertex_names, range(len(self.vertex_names)))) \n",
    "            import numpy as np\n",
    "            self.adjacency_matrix = np.zeros(shape=(len(self.vertices),len(self.vertices)))\n",
    "            for i in range(len(self.vertex_names)):\n",
    "                for j in range(i, len(self.vertices)):\n",
    "                    for el in g.vertices[self.vertex_names[i]]:\n",
    "                        j = g.vertex_indices[el]\n",
    "                        self.adjacency_matrix[i,j] = 1\n",
    "            return self.adjacency_matrix\n",
    "        else:\n",
    "            return dict()              \n",
    "                        \n",
    "\n",
    "def graph(g):\n",
    "    \"\"\" Function to print a graph as adjacency list and adjacency matrix. \"\"\"\n",
    "    return str(g.adjacencyList()) + '\\n' + '\\n' + str(g.adjacencyMatrix())\n",
    "\n",
    "###################################################################################\n",
    "\n",
    "a = Vertex('A')\n",
    "b = Vertex('B')\n",
    "c = Vertex('C')\n",
    "d = Vertex('D')\n",
    "e = Vertex('E')\n",
    "\n",
    "a.add_neighbors([b,c,e]) \n",
    "b.add_neighbors([a,c])\n",
    "c.add_neighbors([b,d,a,e])\n",
    "d.add_neighbor(c)\n",
    "e.add_neighbors([a,c])\n",
    "        \n",
    "        \n",
    "g = Graph()\n",
    "print(graph(g))\n",
    "print(\"\\n\")\n",
    "g.add_vertices([a,b,c,d,e])\n",
    "g.add_edge(b,d)\n",
    "print(\"\\n\")\n",
    "print(graph(g))"
   ]
  },
  {
   "cell_type": "code",
   "execution_count": null,
   "metadata": {},
   "outputs": [],
   "source": []
  }
 ],
 "metadata": {
  "kernelspec": {
   "display_name": "Python 3",
   "language": "python",
   "name": "python3"
  },
  "language_info": {
   "codemirror_mode": {
    "name": "ipython",
    "version": 3
   },
   "file_extension": ".py",
   "mimetype": "text/x-python",
   "name": "python",
   "nbconvert_exporter": "python",
   "pygments_lexer": "ipython3",
   "version": "3.7.0"
  }
 },
 "nbformat": 4,
 "nbformat_minor": 2
}
