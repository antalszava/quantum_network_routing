{
 "cells": [
  {
   "cell_type": "markdown",
   "metadata": {},
   "source": [
    "# Importing files needed from the quantum network routing library"
   ]
  },
  {
   "cell_type": "code",
   "execution_count": 1,
   "metadata": {},
   "outputs": [],
   "source": [
    "%run ./lib/helper.py\n",
    "%run ./lib/graph.py\n",
    "%run ./lib/graph_edge_factory.py\n",
    "%run ./lib/plot.py\n",
    "%run ./lib/routing_simulation.py\n",
    "%run ./lib/routing_algorithms.py\n",
    "%run ./lib/logger.py\n",
    "%run ./lib/parse_from_log.py\n",
    "%run ./lib/shortest_path.py"
   ]
  },
  {
   "cell_type": "markdown",
   "metadata": {},
   "source": [
    "# Running simulations for the initial knowledge approach"
   ]
  },
  {
   "cell_type": "code",
   "execution_count": 3,
   "metadata": {},
   "outputs": [
    {
     "ename": "AttributeError",
     "evalue": "module 'routing_simulation' has no attribute 'run_algorithm_for_graphs'",
     "output_type": "error",
     "traceback": [
      "\u001b[0;31m---------------------------------------------------------------------------\u001b[0m",
      "\u001b[0;31mAttributeError\u001b[0m                            Traceback (most recent call last)",
      "\u001b[0;32m<ipython-input-3-f618e8a8677d>\u001b[0m in \u001b[0;36m<module>\u001b[0;34m\u001b[0m\n\u001b[1;32m      9\u001b[0m     arguments = {'algorithm': initial_knowledge_init, 'graph_edges': graph_edges,\n\u001b[1;32m     10\u001b[0m                  'link_prediction': False, 'exponential_scale': True}\n\u001b[0;32m---> 11\u001b[0;31m     \u001b[0mtopology_result\u001b[0m\u001b[0;34m,\u001b[0m \u001b[0mlength\u001b[0m \u001b[0;34m=\u001b[0m \u001b[0mrouting_simulation\u001b[0m\u001b[0;34m.\u001b[0m\u001b[0mrun_algorithm_for_graphs\u001b[0m\u001b[0;34m(\u001b[0m\u001b[0;36m50\u001b[0m\u001b[0;34m,\u001b[0m \u001b[0msamples\u001b[0m\u001b[0;34m,\u001b[0m \u001b[0marguments\u001b[0m\u001b[0;34m)\u001b[0m\u001b[0;34m\u001b[0m\u001b[0;34m\u001b[0m\u001b[0m\n\u001b[0m\u001b[1;32m     12\u001b[0m     \u001b[0minitial_knowledge_results\u001b[0m\u001b[0;34m.\u001b[0m\u001b[0mappend\u001b[0m\u001b[0;34m(\u001b[0m\u001b[0mtopology_result\u001b[0m\u001b[0;34m)\u001b[0m\u001b[0;34m\u001b[0m\u001b[0;34m\u001b[0m\u001b[0m\n\u001b[1;32m     13\u001b[0m \u001b[0mend\u001b[0m \u001b[0;34m=\u001b[0m \u001b[0mtime\u001b[0m\u001b[0;34m.\u001b[0m\u001b[0mtime\u001b[0m\u001b[0;34m(\u001b[0m\u001b[0;34m)\u001b[0m\u001b[0;34m\u001b[0m\u001b[0;34m\u001b[0m\u001b[0m\n",
      "\u001b[0;31mAttributeError\u001b[0m: module 'routing_simulation' has no attribute 'run_algorithm_for_graphs'"
     ]
    }
   ],
   "source": [
    "initial_knowledge_results = []\n",
    "samples = 10\n",
    "max_dth = 16\n",
    "start = time.time()\n",
    "for dth in range(0, 4):\n",
    "    threshold = 2 ** dth\n",
    "    factory = VirtualEdgeFactory(distance_threshold=threshold, max_distance_threshold=max_dth)\n",
    "    graph_edges = factory.generate_deterministic_graph_edges()\n",
    "    arguments = {'algorithm': initial_knowledge_init, 'graph_edges': graph_edges,\n",
    "                 'link_prediction': False, 'exponential_scale': True}\n",
    "    topology_result, length = routing_simulation.run_algorithm_for_graphs(50, samples, arguments)\n",
    "    run_algorithm_for_graphs\n",
    "    initial_knowledge_results.append(topology_result)\n",
    "end = time.time()\n",
    "plot_results(initial_knowledge_results, 'initial_knowledge_maxdth_' + str(max_dth) + str(end-start),\n",
    "                  save_tikz = False)"
   ]
  },
  {
   "cell_type": "markdown",
   "metadata": {},
   "source": [
    "# Running simulations for the initial knowledge approach with link prediction"
   ]
  },
  {
   "cell_type": "code",
   "execution_count": 2,
   "metadata": {},
   "outputs": [
    {
     "ename": "KeyboardInterrupt",
     "evalue": "",
     "output_type": "error",
     "traceback": [
      "\u001b[0;31m---------------------------------------------------------------------------\u001b[0m",
      "\u001b[0;31mKeyboardInterrupt\u001b[0m                         Traceback (most recent call last)",
      "\u001b[0;32m<ipython-input-2-d914f04ed10e>\u001b[0m in \u001b[0;36m<module>\u001b[0;34m()\u001b[0m\n\u001b[1;32m      9\u001b[0m     arguments = {'algorithm': initial_knowledge_init, 'graph_edges': graph_edges,\n\u001b[1;32m     10\u001b[0m                  'link_prediction': True, 'exponential_scale': True}\n\u001b[0;32m---> 11\u001b[0;31m     \u001b[0mtopology_result\u001b[0m\u001b[0;34m,\u001b[0m \u001b[0mlength\u001b[0m \u001b[0;34m=\u001b[0m \u001b[0mrouting_simulation\u001b[0m\u001b[0;34m.\u001b[0m\u001b[0mrun_algorithm_for_graphs\u001b[0m\u001b[0;34m(\u001b[0m\u001b[0;36m50\u001b[0m\u001b[0;34m,\u001b[0m \u001b[0msamples\u001b[0m\u001b[0;34m,\u001b[0m \u001b[0marguments\u001b[0m\u001b[0;34m)\u001b[0m\u001b[0;34m\u001b[0m\u001b[0;34m\u001b[0m\u001b[0m\n\u001b[0m\u001b[1;32m     12\u001b[0m     \u001b[0minitial_knowledge_results\u001b[0m\u001b[0;34m.\u001b[0m\u001b[0mappend\u001b[0m\u001b[0;34m(\u001b[0m\u001b[0mtopology_result\u001b[0m\u001b[0;34m)\u001b[0m\u001b[0;34m\u001b[0m\u001b[0;34m\u001b[0m\u001b[0m\n\u001b[1;32m     13\u001b[0m \u001b[0mend\u001b[0m \u001b[0;34m=\u001b[0m \u001b[0mtime\u001b[0m\u001b[0;34m.\u001b[0m\u001b[0mtime\u001b[0m\u001b[0;34m(\u001b[0m\u001b[0;34m)\u001b[0m\u001b[0;34m\u001b[0m\u001b[0;34m\u001b[0m\u001b[0m\n",
      "\u001b[0;32m~/Documents/eit/thesis/implementation/quantum_routing/notebooks/lib/routing_simulation.py\u001b[0m in \u001b[0;36mrun_algorithm_for_graphs\u001b[0;34m(number_of_source_destination_pairs, samples, algorithm_arguments)\u001b[0m\n\u001b[1;32m    195\u001b[0m     \u001b[0;31m# Iterating through the remaining simulation rounds\u001b[0m\u001b[0;34m\u001b[0m\u001b[0;34m\u001b[0m\u001b[0;34m\u001b[0m\u001b[0m\n\u001b[1;32m    196\u001b[0m     \u001b[0;32mfor\u001b[0m \u001b[0mx\u001b[0m \u001b[0;32min\u001b[0m \u001b[0mrange\u001b[0m\u001b[0;34m(\u001b[0m\u001b[0;36m1\u001b[0m\u001b[0;34m,\u001b[0m \u001b[0mnumber_of_source_destination_pairs\u001b[0m \u001b[0;34m+\u001b[0m \u001b[0;36m1\u001b[0m\u001b[0;34m)\u001b[0m\u001b[0;34m:\u001b[0m\u001b[0;34m\u001b[0m\u001b[0;34m\u001b[0m\u001b[0m\n\u001b[0;32m--> 197\u001b[0;31m         \u001b[0mresults\u001b[0m\u001b[0;34m,\u001b[0m \u001b[0mlink_lengths\u001b[0m \u001b[0;34m=\u001b[0m \u001b[0mextract_arguments_for_run_round\u001b[0m\u001b[0;34m(\u001b[0m\u001b[0mx\u001b[0m\u001b[0;34m,\u001b[0m \u001b[0msamples\u001b[0m\u001b[0;34m,\u001b[0m \u001b[0malgorithm_arguments\u001b[0m\u001b[0;34m)\u001b[0m\u001b[0;34m\u001b[0m\u001b[0;34m\u001b[0m\u001b[0m\n\u001b[0m\u001b[1;32m    198\u001b[0m \u001b[0;34m\u001b[0m\u001b[0m\n\u001b[1;32m    199\u001b[0m         \u001b[0;31m# Summing up the values obtained in each round\u001b[0m\u001b[0;34m\u001b[0m\u001b[0;34m\u001b[0m\u001b[0;34m\u001b[0m\u001b[0m\n",
      "\u001b[0;32m~/Documents/eit/thesis/implementation/quantum_routing/notebooks/lib/routing_simulation.py\u001b[0m in \u001b[0;36mextract_arguments_for_run_round\u001b[0;34m(number_of_source_destination_pairs, samples, algorithm_arguments)\u001b[0m\n\u001b[1;32m    171\u001b[0m         run_algorithms_several_times(number_of_source_destination_pairs, samples, algorithm, graph_edges,\n\u001b[1;32m    172\u001b[0m                                                  \u001b[0mdistance_threshold\u001b[0m\u001b[0;34m,\u001b[0m \u001b[0mpropagation_radius\u001b[0m\u001b[0;34m,\u001b[0m\u001b[0;34m\u001b[0m\u001b[0;34m\u001b[0m\u001b[0m\n\u001b[0;32m--> 173\u001b[0;31m                                                  exponential_scale, link_prediction)\n\u001b[0m\u001b[1;32m    174\u001b[0m     \u001b[0;32mreturn\u001b[0m \u001b[0mhelper\u001b[0m\u001b[0;34m.\u001b[0m\u001b[0mmap_tuple_gen\u001b[0m\u001b[0;34m(\u001b[0m\u001b[0mnp\u001b[0m\u001b[0;34m.\u001b[0m\u001b[0mmean\u001b[0m\u001b[0;34m,\u001b[0m \u001b[0mzip\u001b[0m\u001b[0;34m(\u001b[0m\u001b[0;34m*\u001b[0m\u001b[0mresults_for_source_destination\u001b[0m\u001b[0;34m)\u001b[0m\u001b[0;34m)\u001b[0m\u001b[0;34m,\u001b[0m \u001b[0mlink_length_dictionary\u001b[0m\u001b[0;34m\u001b[0m\u001b[0;34m\u001b[0m\u001b[0m\n\u001b[1;32m    175\u001b[0m \u001b[0;34m\u001b[0m\u001b[0m\n",
      "\u001b[0;32m~/Documents/eit/thesis/implementation/quantum_routing/notebooks/lib/routing_simulation.py\u001b[0m in \u001b[0;36mrun_for_specific_source_destination_pair\u001b[0;34m(number_of_source_destination_pairs, samples, algorithm, graph_edges, distance_threshold, propagation_radius, exponential_scale, link_prediction)\u001b[0m\n\u001b[1;32m    133\u001b[0m         \u001b[0;32melse\u001b[0m\u001b[0;34m:\u001b[0m\u001b[0;34m\u001b[0m\u001b[0;34m\u001b[0m\u001b[0m\n\u001b[1;32m    134\u001b[0m             results: tuple = algorithm(graph_edges, number_of_source_destination_pairs, link_prediction=link_prediction,\n\u001b[0;32m--> 135\u001b[0;31m                                        exponential_scale=exponential_scale)\n\u001b[0m\u001b[1;32m    136\u001b[0m \u001b[0;34m\u001b[0m\u001b[0m\n\u001b[1;32m    137\u001b[0m         \u001b[0mresults_for_source_destination\u001b[0m\u001b[0;34m.\u001b[0m\u001b[0mappend\u001b[0m\u001b[0;34m(\u001b[0m\u001b[0mresults\u001b[0m\u001b[0;34m)\u001b[0m\u001b[0;34m\u001b[0m\u001b[0;34m\u001b[0m\u001b[0m\n",
      "\u001b[0;32m~/Documents/eit/thesis/implementation/quantum_routing/notebooks/lib/routing_algorithms.py\u001b[0m in \u001b[0;36minitial_knowledge_init\u001b[0;34m(graph_edges, number_of_source_destination_pairs, time_window_size, link_prediction, exponential_scale)\u001b[0m\n\u001b[1;32m    529\u001b[0m     \u001b[0mnumber_of_measures\u001b[0m \u001b[0;34m=\u001b[0m \u001b[0;36m4\u001b[0m\u001b[0;34m\u001b[0m\u001b[0;34m\u001b[0m\u001b[0m\n\u001b[1;32m    530\u001b[0m     \u001b[0mfinal_results\u001b[0m \u001b[0;34m=\u001b[0m \u001b[0mtuple\u001b[0m\u001b[0;34m(\u001b[0m\u001b[0;34m[\u001b[0m\u001b[0;34m]\u001b[0m \u001b[0;32mfor\u001b[0m \u001b[0mx\u001b[0m \u001b[0;32min\u001b[0m \u001b[0mrange\u001b[0m\u001b[0;34m(\u001b[0m\u001b[0mnumber_of_measures\u001b[0m\u001b[0;34m)\u001b[0m\u001b[0;34m)\u001b[0m\u001b[0;34m\u001b[0m\u001b[0;34m\u001b[0m\u001b[0m\n\u001b[0;32m--> 531\u001b[0;31m     \u001b[0mmain_graph\u001b[0m \u001b[0;34m=\u001b[0m \u001b[0mgraph\u001b[0m\u001b[0;34m.\u001b[0m\u001b[0mGraph\u001b[0m\u001b[0;34m(\u001b[0m\u001b[0mgraph_edges\u001b[0m\u001b[0;34m,\u001b[0m \u001b[0mlink_prediction\u001b[0m\u001b[0;34m=\u001b[0m\u001b[0mlink_prediction\u001b[0m\u001b[0;34m)\u001b[0m\u001b[0;34m\u001b[0m\u001b[0;34m\u001b[0m\u001b[0m\n\u001b[0m\u001b[1;32m    532\u001b[0m \u001b[0;34m\u001b[0m\u001b[0m\n\u001b[1;32m    533\u001b[0m     \u001b[0;32mif\u001b[0m \u001b[0mlink_prediction\u001b[0m\u001b[0;34m:\u001b[0m\u001b[0;34m\u001b[0m\u001b[0;34m\u001b[0m\u001b[0m\n",
      "\u001b[0;32m~/Documents/eit/thesis/implementation/quantum_routing/notebooks/lib/graph.py\u001b[0m in \u001b[0;36m__init__\u001b[0;34m(self, edges, link_prediction)\u001b[0m\n\u001b[1;32m    154\u001b[0m \u001b[0;34m\u001b[0m\u001b[0m\n\u001b[1;32m    155\u001b[0m             \u001b[0;32mif\u001b[0m \u001b[0mlink_prediction\u001b[0m\u001b[0;34m:\u001b[0m\u001b[0;34m\u001b[0m\u001b[0;34m\u001b[0m\u001b[0m\n\u001b[0;32m--> 156\u001b[0;31m                 \u001b[0mself\u001b[0m\u001b[0;34m.\u001b[0m\u001b[0massign_edge_frequencies\u001b[0m\u001b[0;34m(\u001b[0m\u001b[0;34m)\u001b[0m\u001b[0;34m\u001b[0m\u001b[0;34m\u001b[0m\u001b[0m\n\u001b[0m\u001b[1;32m    157\u001b[0m                 \u001b[0mself\u001b[0m\u001b[0;34m.\u001b[0m\u001b[0minitialize_link_consumption_times\u001b[0m\u001b[0;34m(\u001b[0m\u001b[0;34m)\u001b[0m\u001b[0;34m\u001b[0m\u001b[0;34m\u001b[0m\u001b[0m\n\u001b[1;32m    158\u001b[0m \u001b[0;34m\u001b[0m\u001b[0m\n",
      "\u001b[0;32m~/Documents/eit/thesis/implementation/quantum_routing/notebooks/lib/graph.py\u001b[0m in \u001b[0;36massign_edge_frequencies\u001b[0;34m(self)\u001b[0m\n\u001b[1;32m    412\u001b[0m             \u001b[0mDictionary\u001b[0m \u001b[0mcontaining\u001b[0m \u001b[0mfrequencies\u001b[0m \u001b[0mof\u001b[0m \u001b[0medges\u001b[0m \u001b[0;32min\u001b[0m \u001b[0mgraph\u001b[0m\u001b[0;34m,\u001b[0m \u001b[0medges\u001b[0m \u001b[0mare\u001b[0m \u001b[0mspecified\u001b[0m \u001b[0mby\u001b[0m \u001b[0mtuples\u001b[0m\u001b[0;34m\u001b[0m\u001b[0;34m\u001b[0m\u001b[0m\n\u001b[1;32m    413\u001b[0m         \"\"\"\n\u001b[0;32m--> 414\u001b[0;31m         \u001b[0mpaths\u001b[0m \u001b[0;34m=\u001b[0m \u001b[0mdeque\u001b[0m\u001b[0;34m(\u001b[0m\u001b[0mself\u001b[0m\u001b[0;34m.\u001b[0m\u001b[0mget_paths_for_all_pairs\u001b[0m\u001b[0;34m(\u001b[0m\u001b[0;34m)\u001b[0m\u001b[0;34m)\u001b[0m\u001b[0;34m\u001b[0m\u001b[0;34m\u001b[0m\u001b[0m\n\u001b[0m\u001b[1;32m    415\u001b[0m         \u001b[0;32mwhile\u001b[0m \u001b[0;32mTrue\u001b[0m\u001b[0;34m:\u001b[0m\u001b[0;34m\u001b[0m\u001b[0;34m\u001b[0m\u001b[0m\n\u001b[1;32m    416\u001b[0m \u001b[0;34m\u001b[0m\u001b[0m\n",
      "\u001b[0;32m~/Documents/eit/thesis/implementation/quantum_routing/notebooks/lib/graph.py\u001b[0m in \u001b[0;36mget_paths_for_all_pairs\u001b[0;34m(self)\u001b[0m\n\u001b[1;32m    363\u001b[0m             \u001b[0mList\u001b[0m \u001b[0mof\u001b[0m \u001b[0mshortest\u001b[0m \u001b[0mpaths\u001b[0m \u001b[0;32mfor\u001b[0m \u001b[0meach\u001b[0m \u001b[0mviable\u001b[0m \u001b[0mpair\u001b[0m\u001b[0;34m.\u001b[0m\u001b[0;34m\u001b[0m\u001b[0;34m\u001b[0m\u001b[0m\n\u001b[1;32m    364\u001b[0m         \"\"\"\n\u001b[0;32m--> 365\u001b[0;31m         return [shortest_path.dijkstra(self, x, y) for x in range(1, len(self.Vertices) + 1)\n\u001b[0m\u001b[1;32m    366\u001b[0m                 for y in range(1, len(self.Vertices) + 1) if x != y]\n\u001b[1;32m    367\u001b[0m \u001b[0;34m\u001b[0m\u001b[0m\n",
      "\u001b[0;32m~/Documents/eit/thesis/implementation/quantum_routing/notebooks/lib/graph.py\u001b[0m in \u001b[0;36m<listcomp>\u001b[0;34m(.0)\u001b[0m\n\u001b[1;32m    364\u001b[0m         \"\"\"\n\u001b[1;32m    365\u001b[0m         return [shortest_path.dijkstra(self, x, y) for x in range(1, len(self.Vertices) + 1)\n\u001b[0;32m--> 366\u001b[0;31m                 for y in range(1, len(self.Vertices) + 1) if x != y]\n\u001b[0m\u001b[1;32m    367\u001b[0m \u001b[0;34m\u001b[0m\u001b[0m\n\u001b[1;32m    368\u001b[0m     \u001b[0;32mdef\u001b[0m \u001b[0madd_frequency_for_path\u001b[0m\u001b[0;34m(\u001b[0m\u001b[0mself\u001b[0m\u001b[0;34m,\u001b[0m \u001b[0mcurrent_path\u001b[0m\u001b[0;34m:\u001b[0m \u001b[0mlist\u001b[0m\u001b[0;34m)\u001b[0m \u001b[0;34m->\u001b[0m \u001b[0;32mNone\u001b[0m\u001b[0;34m:\u001b[0m\u001b[0;34m\u001b[0m\u001b[0;34m\u001b[0m\u001b[0m\n",
      "\u001b[0;32m~/Documents/eit/thesis/implementation/quantum_routing/notebooks/lib/shortest_path.py\u001b[0m in \u001b[0;36mdijkstra\u001b[0;34m(graph, start_node, end_node, link_prediction)\u001b[0m\n\u001b[1;32m    169\u001b[0m                 \u001b[0mdistance\u001b[0m\u001b[0;34m[\u001b[0m\u001b[0mchild\u001b[0m\u001b[0;34m]\u001b[0m \u001b[0;34m=\u001b[0m \u001b[0mtentative_cost\u001b[0m\u001b[0;34m\u001b[0m\u001b[0;34m\u001b[0m\u001b[0m\n\u001b[1;32m    170\u001b[0m                 \u001b[0mparents\u001b[0m\u001b[0;34m[\u001b[0m\u001b[0mchild\u001b[0m\u001b[0;34m]\u001b[0m \u001b[0;34m=\u001b[0m \u001b[0mcurrent\u001b[0m\u001b[0;34m\u001b[0m\u001b[0;34m\u001b[0m\u001b[0m\n\u001b[0;32m--> 171\u001b[0;31m                 \u001b[0mheap_entry\u001b[0m \u001b[0;34m=\u001b[0m \u001b[0mHeapEntry\u001b[0m\u001b[0;34m(\u001b[0m\u001b[0mchild\u001b[0m\u001b[0;34m,\u001b[0m \u001b[0mtentative_cost\u001b[0m\u001b[0;34m)\u001b[0m\u001b[0;34m\u001b[0m\u001b[0;34m\u001b[0m\u001b[0m\n\u001b[0m\u001b[1;32m    172\u001b[0m                 \u001b[0mheapq\u001b[0m\u001b[0;34m.\u001b[0m\u001b[0mheappush\u001b[0m\u001b[0;34m(\u001b[0m\u001b[0mopen_nodes\u001b[0m\u001b[0;34m,\u001b[0m \u001b[0mheap_entry\u001b[0m\u001b[0;34m)\u001b[0m\u001b[0;34m\u001b[0m\u001b[0;34m\u001b[0m\u001b[0m\n\u001b[1;32m    173\u001b[0m \u001b[0;34m\u001b[0m\u001b[0m\n",
      "\u001b[0;31mKeyboardInterrupt\u001b[0m: "
     ]
    }
   ],
   "source": [
    "initial_knowledge_results = []\n",
    "samples = 1000\n",
    "max_dth = 16\n",
    "start = time.time()\n",
    "for dth in range(0, 4):\n",
    "    threshold = 2 ** dth\n",
    "    factory = VirtualEdgeFactory(distance_threshold=threshold, max_distance_threshold=max_dth)\n",
    "    graph_edges = factory.generate_deterministic_graph_edges()\n",
    "    arguments = {'algorithm': initial_knowledge_init, 'graph_edges': graph_edges,\n",
    "                 'link_prediction': True, 'exponential_scale': True}\n",
    "    topology_result, length = routing_simulation.run_algorithm_for_graphs(50, samples, arguments)\n",
    "    initial_knowledge_results.append(topology_result)\n",
    "end = time.time()\n",
    "plot_results(initial_knowledge_results, 'initial_knowledge_link_prediction_maxdth_' + str(max_dth) + str(end-start),\n",
    "                  save_tikz = False)\n",
    "write_results_to_file(initial_knowledge_results, 'initial_knowledge_link_prediction_maxdth_' + str(max_dth) + str(end-start),\n",
    "                          '' , (end - start))   "
   ]
  },
  {
   "cell_type": "code",
   "execution_count": 10,
   "metadata": {},
   "outputs": [
    {
     "name": "stdout",
     "output_type": "stream",
     "text": [
      "[([8.267, 2147675.4335, 16198182.337, 50406613.51575, 57332036.6406, 86085721.96383333, 102250155.46685715, 118272651.77775, 139200167.19333336, 142481115.70809996, 137222583.49036363, 163289537.506, 162959686.2436923, 160949826.07192856, 175504638.4064, 182443842.16925, 182608531.74752942, 177168227.60527778, 188256933.09531578, 192354802.21205, 193653399.29485714, 197439827.12181818, 192116151.0327826, 202316360.46075, 197858926.22932002, 199490094.68203846, 206002988.28948146, 196052255.81514284, 195701089.76603448, 198539019.12379998, 202447191.4716129, 197755481.6364375, 203154537.6316667, 206793433.8029706, 207469063.68654284, 211547884.71763888, 210530999.5068919, 210062764.88828948, 206240316.80176923, 206185881.210225, 205216823.43490243, 206827130.14614287, 209214744.74518603, 216298399.16170454, 209863202.92206666, 206999841.29065216, 208098543.62795743, 218940020.6673542, 208001810.03904083, 206940415.98764], [53.733, 49.111, 44.825, 40.761, 36.974, 33.514, 30.482142857142858, 28.12725, 25.895333333333337, 24.030699999999996, 22.513, 20.696583333333333, 19.34684615384615, 18.252142857142857, 17.139333333333333, 16.081625, 15.32470588235294, 14.297111111111109, 13.71021052631579, 13.2021, 12.550714285714287, 12.027363636363637, 11.323391304347824, 11.076125, 10.623760000000003, 10.192, 9.694814814814814, 9.484785714285714, 9.072896551724138, 8.755133333333333, 8.52341935483871, 8.23303125, 7.985060606060606, 7.840588235294117, 7.482657142857143, 7.309777777777778, 7.29981081081081, 7.001394736842105, 6.777897435897436, 6.572100000000001, 6.479390243902438, 6.258452380952382, 6.174348837209301, 6.070272727272728, 5.892155555555555, 5.764956521739131, 5.656851063829787, 5.552145833333333, 5.406102040816328, 5.3238199999999996], [27.863, 25.5725, 23.411, 21.37675, 19.486, 17.757, 16.213, 15.026375, 13.908777777777777, 12.9327, 12.167272727272728, 11.223333333333333, 10.525153846153845, 9.913857142857143, 9.349666666666666, 8.8009375, 8.382764705882353, 7.828777777777777, 7.511789473684211, 7.2467999999999995, 6.878, 6.591636363636363, 6.225869565217392, 6.081833333333334, 5.846520000000001, 5.5982692307692306, 5.333333333333333, 5.2095714285714285, 5.000275862068966, 4.8194333333333335, 4.693516129032258, 4.5359375, 4.395575757575757, 4.313411764705883, 4.115485714285715, 4.016638888888889, 4.0145405405405405, 3.8558421052631577, 3.73874358974359, 3.6233999999999997, 3.5606341463414632, 3.4418571428571427, 3.4005116279069765, 3.339590909090909, 3.2333333333333334, 3.175, 3.1128085106382977, 3.0554375, 2.9710816326530614, 2.9325799999999997], [8.267, 9.285, 10.057666666666668, 10.66425, 11.064, 11.4075, 11.429714285714287, 11.48775, 11.433666666666666, 11.210799999999999, 11.014090909090909, 11.023166666666668, 10.923769230769231, 10.792214285714286, 10.677066666666667, 10.5774375, 10.473470588235294, 10.364277777777778, 10.31921052631579, 10.184899999999999, 10.150857142857141, 10.031636363636364, 9.95391304347826, 9.899791666666667, 9.857959999999999, 9.739346153846155, 9.722814814814816, 9.622107142857143, 9.601448275862069, 9.560733333333333, 9.517903225806451, 9.4646875, 9.488, 9.42920588235294, 9.387114285714286, 9.34775, 9.264594594594595, 9.279947368421054, 9.264179487179486, 9.218325, 9.216756097560976, 9.191047619047618, 9.131418604651165, 9.153954545454546, 9.123888888888889, 9.093239130434782, 9.066829787234044, 9.095958333333334, 9.027244897959182, 9.0446]), ([4.651, 2155909.1765, 1954651.73, 2827309.98675, 13658183.606, 36187165.39383333, 61033762.290285714, 69903094.75925, 85144579.61644444, 102702599.647, 114000441.84427273, 129885294.91691667, 137208303.44238463, 120959306.61335714, 143768026.312, 151680052.253625, 143430566.7416471, 158457100.83566666, 159564932.9148421, 164821614.57215, 170902621.1302857, 175566328.50995454, 173937312.8112174, 173496947.1582083, 183950475.06331998, 176236499.2341923, 183460656.176, 181325516.7884643, 189605715.2602069, 191395220.87746668, 194967757.62119353, 191340209.59153125, 178927041.75784847, 198297182.32602942, 199034732.9077143, 192589383.79919446, 197626567.4826486, 197936562.6982105, 197469946.46071795, 203364481.56465003, 203870498.16670734, 200743035.82904762, 202974282.09460467, 201959578.5804773, 201077112.009, 201931122.06495655, 199870974.18395743, 204464578.2619167, 198498456.7577959, 209092429.46172], [57.349, 55.0805, 53.16633333333333, 49.85475, 47.18579999999999, 44.313833333333335, 41.99914285714286, 39.468, 37.50266666666667, 35.9093, 34.487545454545455, 33.00008333333333, 31.634076923076922, 30.753785714285712, 29.793533333333333, 28.8020625, 27.832764705882354, 27.16338888888889, 26.294684210526313, 25.70545, 25.15657142857143, 24.606272727272728, 24.142565217391304, 23.449416666666664, 23.09656, 22.529115384615384, 22.27574074074074, 21.700892857142854, 21.256413793103448, 20.973766666666666, 20.717548387096773, 20.14109375, 19.879181818181817, 19.65932352941176, 19.358885714285712, 18.911583333333336, 18.62213513513513, 18.310947368421054, 18.01920512820513, 17.650050000000004, 17.32360975609756, 17.348142857142854, 17.159023255813953, 16.901863636363633, 16.55348888888889, 16.360347826086958, 16.03331914893617, 15.799895833333332, 15.78412244897959, 15.335139999999999], [45.155, 43.763, 42.53366666666667, 39.7915, 37.27720000000001, 34.69466666666667, 32.469857142857144, 30.16725, 28.359, 26.8518, 25.565272727272728, 24.28225, 23.09307692307692, 22.2265, 21.419866666666667, 20.5736875, 19.773823529411764, 19.19927777777778, 18.47221052631579, 18.05415, 17.49576190476191, 17.119090909090907, 16.690739130434785, 16.140541666666667, 15.83092, 15.449807692307694, 15.239148148148148, 14.861107142857145, 14.496448275862068, 14.262966666666667, 14.01758064516129, 13.665625, 13.485969696969697, 13.291676470588236, 13.062257142857142, 12.742416666666665, 12.561351351351352, 12.305736842105263, 12.15976923076923, 11.841075, 11.706682926829268, 11.620071428571428, 11.490418604651165, 11.339659090909091, 11.114799999999999, 10.931521739130433, 10.745361702127658, 10.572979166666666, 10.60234693877551, 10.26652], [4.651, 4.7355, 4.643666666666667, 5.752, 6.211399999999999, 6.761166666666666, 7.050142857142857, 7.451875, 7.646111111111112, 7.874200000000001, 7.974272727272727, 8.162, 8.324692307692308, 8.3555, 8.4284, 8.588125, 8.693882352941177, 8.765166666666667, 8.90642105263158, 8.80815, 8.892, 8.978636363636362, 9.005347826086956, 9.126041666666666, 9.04956, 9.172, 9.125407407407408, 9.195107142857143, 9.245689655172413, 9.274566666666667, 9.203096774193549, 9.22834375, 9.24439393939394, 9.296323529411763, 9.258457142857143, 9.288583333333333, 9.246108108108107, 9.309894736842105, 9.395410256410257, 9.374325, 9.352658536585366, 9.35442857142857, 9.387534883720932, 9.312113636363636, 9.304488888888887, 9.339260869565216, 9.383531914893618, 9.350833333333334, 9.367020408163265, 9.376899999999997])]\n"
     ]
    }
   ],
   "source": [
    "print(initial_knowledge_results)"
   ]
  },
  {
   "cell_type": "code",
   "execution_count": null,
   "metadata": {},
   "outputs": [],
   "source": []
  }
 ],
 "metadata": {
  "kernelspec": {
   "display_name": "Python 3",
   "language": "python",
   "name": "python3"
  },
  "language_info": {
   "codemirror_mode": {
    "name": "ipython",
    "version": 3
   },
   "file_extension": ".py",
   "mimetype": "text/x-python",
   "name": "python",
   "nbconvert_exporter": "python",
   "pygments_lexer": "ipython3",
   "version": "3.7.6"
  }
 },
 "nbformat": 4,
 "nbformat_minor": 2
}
