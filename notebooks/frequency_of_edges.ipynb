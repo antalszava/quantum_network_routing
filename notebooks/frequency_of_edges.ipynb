{
 "cells": [
  {
   "cell_type": "code",
   "execution_count": 2,
   "metadata": {},
   "outputs": [],
   "source": [
    "'''\n",
    "Import the helper functions: map_tuple, mean\n",
    "'''\n",
    "%run ./lib/helper.py\n",
    "%run ./lib/graph.py\n",
    "%run ./lib/graph_edge_factory.py\n",
    "%run ./lib/plot.py\n",
    "%run ./lib/routing_simulation.py\n",
    "%run ./lib/routing_algorithms.py\n",
    "%run ./lib/logger.py"
   ]
  },
  {
   "cell_type": "code",
   "execution_count": 27,
   "metadata": {},
   "outputs": [],
   "source": [
    "# Add or create the value in the dictionary\n",
    "def my_add_to_dictionary_tuple(dictionary: dict, tup: tuple):\n",
    "    k,v = tup\n",
    "    if k in dictionary:\n",
    "        dictionary[k] += v\n",
    "    else:\n",
    "        dictionary[k] = v\n",
    "    return dictionary\n",
    "\n",
    "def get_path_frequency(graph, current_path_list: list, frequencies: dict):\n",
    "    remainder_of_path = deque(current_path_list)\n",
    "    initial_node = remainder_of_path.popleft()\n",
    "    get_initial = True\n",
    "\n",
    "    # Take the leftmost two nodes out of the deque and get the edt until we are finished\n",
    "\n",
    "    while True:\n",
    "        if get_initial:\n",
    "            start_node = initial_node\n",
    "            get_initial = False\n",
    "        else:\n",
    "            start_node = remainder_of_path.popleft()\n",
    "        end_node = remainder_of_path.popleft()\n",
    "\n",
    "        # Calculate the edt for the current step\n",
    "        \n",
    "        \n",
    "        if start_node > end_node:\n",
    "            my_add_to_dictionary_tuple(frequencies, ((end_node, start_node),1))\n",
    "        else:\n",
    "            my_add_to_dictionary_tuple(frequencies, ((start_node, end_node),1))\n",
    "        \n",
    "        # Check if we have processed the path\n",
    "        if len(remainder_of_path) == 0:\n",
    "            return frequencies\n",
    "\n",
    "        # Put the end node back into the deque\n",
    "        remainder_of_path.appendleft(end_node)"
   ]
  },
  {
   "cell_type": "code",
   "execution_count": 50,
   "metadata": {},
   "outputs": [],
   "source": [
    "def get_all_source_destination_shortest_paths(graph):\n",
    "    return [dijkstra(graph, x,y) for x in range(1, len(graph.Vertices) + 1)\n",
    "            for y in range(1, len(graph.Vertices) + 1) if x != y]\n",
    "\n",
    "def get_edge_frequencies_in_graph(graph):\n",
    "    frequencies = {}\n",
    "    paths = deque(get_all_source_destination_shortest_paths(graph))\n",
    "    while True:\n",
    "\n",
    "        current_path = paths.popleft()\n",
    "        get_path_frequency(graph, current_path, frequencies)\n",
    "\n",
    "        if len(paths) == 0:\n",
    "            return frequencies"
   ]
  },
  {
   "cell_type": "code",
   "execution_count": 51,
   "metadata": {},
   "outputs": [
    {
     "name": "stdout",
     "output_type": "stream",
     "text": [
      "{(1, 2): 257, (2, 3): 257, (3, 4): 257, (4, 5): 257, (5, 6): 257, (6, 7): 257, (7, 8): 257, (8, 9): 257, (9, 10): 257, (10, 11): 257, (11, 12): 257, (12, 13): 257, (13, 14): 257, (14, 15): 257, (15, 16): 257, (16, 17): 257, (18, 19): 255, (19, 20): 255, (20, 21): 255, (21, 22): 255, (22, 23): 255, (23, 24): 255, (24, 25): 255, (25, 26): 255, (26, 27): 255, (27, 28): 255, (28, 29): 255, (29, 30): 255, (30, 31): 255, (31, 32): 255, (1, 32): 255, (17, 18): 255}\n",
      "{(1, 2): 31, (1, 3): 224, (3, 4): 31, (3, 5): 224, (5, 6): 31, (5, 7): 224, (7, 8): 31, (7, 9): 224, (9, 10): 31, (9, 11): 224, (11, 12): 31, (11, 13): 224, (13, 14): 31, (13, 15): 224, (15, 16): 31, (17, 19): 226, (19, 21): 226, (21, 23): 226, (23, 25): 226, (25, 27): 226, (27, 29): 226, (29, 31): 226, (1, 31): 226, (18, 19): 31, (20, 21): 31, (22, 23): 31, (24, 25): 31, (26, 27): 31, (28, 29): 31, (30, 31): 31, (1, 32): 31, (2, 3): 31, (15, 17): 224, (17, 18): 31, (4, 5): 31, (19, 20): 31, (6, 7): 31, (21, 22): 31, (8, 9): 31, (23, 24): 31, (10, 11): 31, (25, 26): 31, (12, 13): 31, (27, 28): 31, (14, 15): 31, (29, 30): 31, (16, 17): 31, (31, 32): 31}\n",
      "{(1, 2): 31, (1, 3): 56, (3, 4): 31, (1, 5): 168, (5, 6): 31, (5, 7): 56, (7, 8): 31, (5, 9): 168, (9, 10): 31, (9, 11): 56, (11, 12): 31, (9, 13): 168, (13, 14): 31, (13, 15): 56, (15, 16): 31, (17, 21): 170, (21, 25): 170, (25, 29): 170, (1, 29): 170, (18, 19): 31, (19, 21): 56, (20, 21): 31, (22, 23): 31, (23, 25): 56, (24, 25): 31, (26, 27): 31, (27, 29): 56, (28, 29): 31, (30, 31): 31, (1, 31): 56, (1, 32): 31, (2, 3): 31, (3, 5): 56, (13, 17): 168, (17, 18): 31, (17, 19): 56, (4, 5): 31, (19, 20): 31, (6, 7): 31, (7, 9): 56, (21, 22): 31, (21, 23): 56, (8, 9): 31, (23, 24): 31, (10, 11): 31, (11, 13): 56, (25, 26): 31, (25, 27): 56, (12, 13): 31, (27, 28): 31, (14, 15): 31, (15, 17): 56, (29, 30): 31, (29, 31): 56, (16, 17): 31, (31, 32): 31}\n",
      "{(1, 2): 31, (1, 3): 56, (3, 4): 31, (1, 5): 88, (5, 6): 31, (5, 7): 56, (7, 8): 31, (1, 9): 79, (9, 10): 31, (9, 11): 56, (11, 12): 31, (9, 13): 87, (13, 14): 31, (13, 15): 55, (15, 16): 31, (17, 25): 83, (1, 25): 82, (18, 19): 31, (19, 21): 56, (21, 25): 88, (20, 21): 31, (22, 23): 31, (23, 25): 56, (24, 25): 31, (26, 27): 31, (27, 29): 56, (1, 29): 88, (28, 29): 31, (30, 31): 31, (1, 31): 55, (1, 32): 31, (2, 3): 31, (3, 5): 56, (5, 9): 88, (9, 17): 80, (17, 18): 31, (17, 19): 56, (4, 5): 31, (19, 20): 31, (17, 21): 88, (6, 7): 31, (7, 9): 56, (21, 22): 31, (21, 23): 56, (8, 9): 31, (23, 24): 31, (10, 11): 31, (11, 13): 56, (13, 17): 88, (25, 26): 31, (25, 27): 56, (12, 13): 31, (27, 28): 31, (25, 29): 89, (14, 15): 31, (15, 17): 57, (29, 30): 31, (29, 31): 57, (16, 17): 31, (31, 32): 31}\n",
      "{(1, 2): 31, (1, 3): 56, (3, 4): 31, (1, 5): 88, (5, 6): 31, (5, 7): 56, (7, 8): 31, (1, 9): 81, (9, 10): 31, (9, 11): 56, (11, 12): 31, (9, 13): 89, (13, 14): 31, (13, 15): 57, (15, 16): 31, (1, 17): 2, (18, 19): 31, (19, 21): 56, (21, 25): 88, (1, 25): 80, (20, 21): 31, (22, 23): 31, (23, 25): 56, (24, 25): 31, (26, 27): 31, (27, 29): 56, (1, 29): 88, (28, 29): 31, (30, 31): 31, (1, 31): 57, (1, 32): 31, (2, 3): 31, (3, 5): 56, (5, 9): 88, (9, 17): 80, (17, 18): 31, (17, 19): 56, (4, 5): 31, (19, 20): 31, (17, 21): 88, (6, 7): 31, (7, 9): 56, (21, 22): 31, (21, 23): 56, (8, 9): 31, (23, 24): 31, (17, 25): 79, (10, 11): 31, (11, 13): 56, (13, 17): 88, (25, 26): 31, (25, 27): 56, (12, 13): 31, (27, 28): 31, (14, 15): 31, (15, 17): 55, (25, 29): 87, (29, 30): 31, (16, 17): 31, (29, 31): 55, (31, 32): 31}\n"
     ]
    }
   ],
   "source": [
    "frequency_store = []\n",
    "\n",
    "for dth in range(0, 5):\n",
    "    threshold = 2 ** dth\n",
    "    \n",
    "    # Creating on-demand graphs\n",
    "    factory = graph_edge_factory.GraphEdgesFactory(distance_threshold=threshold, original_capacity=0)\n",
    "    graph_edges = factory.generate_deterministic_graph_edges(factory.deterministic_link)\n",
    "    #print(graph_edges)\n",
    "    temp_graph = graph.Graph(graph_edges)\n",
    "    current_frequencies = get_edge_frequencies_in_graph(temp_graph)\n",
    "    frequency_store.append(current_frequencies)\n",
    "    print(current_frequencies)"
   ]
  },
  {
   "cell_type": "code",
   "execution_count": null,
   "metadata": {},
   "outputs": [],
   "source": []
  }
 ],
 "metadata": {
  "kernelspec": {
   "display_name": "Python 3",
   "language": "python",
   "name": "python3"
  },
  "language_info": {
   "codemirror_mode": {
    "name": "ipython",
    "version": 3
   },
   "file_extension": ".py",
   "mimetype": "text/x-python",
   "name": "python",
   "nbconvert_exporter": "python",
   "pygments_lexer": "ipython3",
   "version": "3.7.0"
  }
 },
 "nbformat": 4,
 "nbformat_minor": 2
}
