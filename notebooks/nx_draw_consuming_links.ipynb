{
 "cells": [
  {
   "cell_type": "code",
   "execution_count": 1,
   "metadata": {},
   "outputs": [],
   "source": [
    "'''\n",
    "Import the helper functions: map_tuple, mean\n",
    "'''\n",
    "%run ./lib/helper.py\n",
    "%run ./lib/graph.py\n",
    "%run ./lib/graph_edge_factory.py\n",
    "%run ./lib/plot.py\n",
    "%run ./lib/routing_simulation.py\n",
    "%run ./lib/routing_algorithms.py\n",
    "%run ./lib/logger.py"
   ]
  },
  {
   "cell_type": "code",
   "execution_count": 2,
   "metadata": {},
   "outputs": [],
   "source": [
    "import networkx as nx"
   ]
  },
  {
   "cell_type": "code",
   "execution_count": 3,
   "metadata": {},
   "outputs": [],
   "source": [
    "def draw_graph(graph_edges: list, dth: int = None):\n",
    "\n",
    "    G = nx.MultiGraph()\n",
    "    G.add_edges_from(graph_edges)\n",
    "    nx.draw_circular(G, with_labels=True, edge_color='r', style='dashed', font_size='14',\n",
    "                     font_weight='bold',node_color='w', width=3,)\n",
    "\n",
    "    if dth is not None:\n",
    "        plt.savefig('/home/antal/Documents/eit/thesis/talks/thesis_summary/' + str(dth) + '.png', bbox_inches='tight')\n",
    "    plt.clf()\n",
    "    return None"
   ]
  },
  {
   "cell_type": "code",
   "execution_count": 3,
   "metadata": {},
   "outputs": [
    {
     "name": "stdout",
     "output_type": "stream",
     "text": [
      "[(1, 2, 1), (2, 3, 1), (3, 4, 1), (4, 5, 1), (5, 6, 1), (6, 7, 1), (7, 8, 1), (8, 9, 1), (9, 10, 1), (10, 11, 1), (11, 12, 1), (12, 13, 1), (13, 14, 1), (14, 15, 1), (15, 16, 1), (16, 1, 1), (1, 3, 4), (3, 5, 1), (5, 7, 2), (7, 9, 1), (9, 11, 3), (11, 13, 1), (13, 15, 2), (15, 1, 1)]\n"
     ]
    }
   ],
   "source": [
    "factory = graph_edge_factory.GraphEdgesFactory(number_of_nodes = 16, distance_threshold=2)\n",
    "graph_edges = factory.generate_deterministic_graph_edges(factory.deterministic_link)\n",
    "print(graph_edges)"
   ]
  },
  {
   "cell_type": "markdown",
   "metadata": {},
   "source": [
    "# Complete graph"
   ]
  },
  {
   "cell_type": "code",
   "execution_count": 37,
   "metadata": {},
   "outputs": [
    {
     "name": "stdout",
     "output_type": "stream",
     "text": [
      "{(1, 2): 22, (1, 16): 20, (1, 3): 20, (1, 15): 16, (1, 5): 32, (1, 13): 42, (2, 3): 8, (3, 4): 11, (3, 5): 17, (4, 5): 19, (5, 6): 22, (5, 7): 18, (5, 9): 34, (6, 7): 8, (7, 8): 9, (7, 9): 17, (8, 9): 21, (9, 10): 21, (9, 11): 19, (9, 13): 40, (10, 11): 9, (11, 12): 10, (11, 13): 18, (12, 13): 20, (13, 14): 23, (13, 15): 19, (14, 15): 7, (15, 16): 10}\n"
     ]
    },
    {
     "data": {
      "text/plain": [
       "<Figure size 720x540 with 0 Axes>"
      ]
     },
     "metadata": {},
     "output_type": "display_data"
    }
   ],
   "source": [
    "G = nx.Graph()\n",
    "\n",
    "factory = graph_edge_factory.GraphEdgesFactory(number_of_nodes = 16, distance_threshold=4)\n",
    "graph_edges = factory.generate_deterministic_graph_edges(factory.deterministic_link)\n",
    "\n",
    "simple_edges = [(edge[0], edge[1]) for edge in graph_edges]\n",
    "\n",
    "G.add_edges_from(simple_edges)\n",
    "#print(G.edges)\n",
    "\n",
    "\n",
    "temp_graph = graph.Graph(graph_edges)\n",
    "current_frequencies = routing_algorithms.get_edge_frequencies_in_graph(temp_graph)\n",
    "\n",
    "for edge in graph_edges:\n",
    "    start = edge[0] if edge[0]< edge[1] else edge[1]\n",
    "    end = edge[1] if edge[0] < edge[1] else edge[0]\n",
    "    G.edges[(start, end)]['weight'] = current_frequencies[(start, end)]\n",
    "\n",
    "labels = nx.get_edge_attributes(G,'weight')\n",
    "print(labels)\n",
    "\n",
    "plt.figure(3,figsize=(10,7.5)) \n",
    "nx.draw_networkx_edge_labels(G,nx.circular_layout(G), edge_labels=labels)\n",
    "nx.draw_circular(G, with_labels=True, edge_color='r', style='dashed', font_size='14',\n",
    "                 font_weight='bold',node_color='w', width=3,)\n",
    "\n",
    "'''\n",
    "for edge in G.edges:\n",
    "    print(G.get_edge_data(edge[0], edge[1]))\n",
    "\n",
    "for edge_freq in current_frequencies:\n",
    "    G.edges[edge_freq]['weight'] = 1 #current_frequencies[edge_freq]\n",
    "'''\n",
    "#print(current_frequencies)\n",
    "\n",
    "\n",
    "plt.savefig('/home/antal/Documents/eit/thesis/talks/thesis_summary/' + str(2) + '.png', bbox_inches='tight')\n",
    "plt.clf()"
   ]
  },
  {
   "cell_type": "markdown",
   "metadata": {},
   "source": [
    "# Consume the links along: [(1,5),(5,7),(7,8)]"
   ]
  },
  {
   "cell_type": "code",
   "execution_count": 9,
   "metadata": {},
   "outputs": [
    {
     "name": "stdout",
     "output_type": "stream",
     "text": [
      "[(1, 2, 5), (2, 3, 1), (3, 4, 2), (4, 5, 1), (5, 6, 3), (6, 7, 1), (7, 8, 2), (8, 9, 1), (9, 10, 4), (10, 11, 1), (11, 12, 2), (12, 13, 1), (13, 14, 3), (14, 15, 1), (15, 16, 2), (16, 1, 1)]\n"
     ]
    },
    {
     "data": {
      "text/plain": [
       "<Figure size 432x288 with 0 Axes>"
      ]
     },
     "metadata": {},
     "output_type": "display_data"
    }
   ],
   "source": [
    "#graph_edges = [(1, 2, 1), (2, 3, 1), (3, 4, 1), (4, 5, 1), (5, 6, 1), (6, 7, 1), (8, 9, 1), (9, 10, 1), (10, 11, 1), (11, 12, 1), (12, 13, 1), (13, 14, 1), (14, 15, 1), (15, 16, 1), (16, 1, 1), (1, 3, 1), (3, 5, 1), (7, 9, 1), (9, 11, 1), (11, 13, 1), (13, 15, 1), (15, 1, 1), (5, 9, 1), (9, 13, 2), (13, 1, 1)]\n",
    "dth=1\n",
    "factory = graph_edge_factory.GraphEdgesFactory(number_of_nodes = 16, distance_threshold=dth)\n",
    "graph_edges = factory.generate_deterministic_graph_edges(factory.deterministic_link)\n",
    "print(graph_edges)\n",
    "G = nx.MultiGraph()\n",
    "G.add_edges_from(graph_edges)\n",
    "nx.draw_circular(G, with_labels=True, edge_color='r', style='dashed', font_size='14',\n",
    "                 font_weight='bold',node_color='w', width=3,)\n",
    "'''\n",
    "nx.draw_circular(G, with_labels=True, edge_color='grey',edgelist=[(1,5),(5,7),(7,8)], style='dashed', font_size='14',\n",
    "                 font_weight='bold',node_color='w', width=3,)\n",
    "'''\n",
    "\n",
    "diretory = '/home/antal/Documents/eit/thesis/implementation/quantum_routing/selected_results_for_thesis/graph_images/tix'\n",
    "#plt.savefig('/home/antal/Documents/eit/thesis/talks/thesis_summary/' + str(dth) + '_dth.png', bbox_inches='tight')\n",
    "matplotlib2tikz.save('./' + directory + '/' + algo_name + '_' + str(number_of_samples) + '_' +\n",
    "                             measures[measure_index] + '_' + timestr + '.tex')\n",
    "plt.clf()"
   ]
  },
  {
   "cell_type": "code",
   "execution_count": 65,
   "metadata": {},
   "outputs": [
    {
     "name": "stdout",
     "output_type": "stream",
     "text": [
      "[(1, 2, 1), (2, 3, 1), (3, 4, 1), (4, 5, 1), (5, 6, 1), (6, 7, 1), (7, 8, 1), (8, 9, 1), (9, 10, 1), (10, 11, 1), (11, 12, 1), (12, 13, 1), (13, 14, 1), (14, 15, 1), (15, 16, 1), (16, 1, 1), (1, 3, 1), (3, 5, 1), (5, 7, 1), (7, 9, 1), (9, 11, 1), (11, 13, 1), (13, 15, 1), (15, 1, 1), (1, 5, 3), (5, 9, 1), (9, 13, 2), (13, 1, 1)]\n"
     ]
    },
    {
     "data": {
      "text/plain": [
       "<Figure size 432x288 with 0 Axes>"
      ]
     },
     "metadata": {},
     "output_type": "display_data"
    }
   ],
   "source": [
    "#graph_edges = [(1, 2, 1), (2, 3, 1), (3, 4, 1), (4, 5, 1), (5, 6, 1), (6, 7, 1), (8, 9, 1), (9, 10, 1), (10, 11, 1), (11, 12, 1), (12, 13, 1), (13, 14, 1), (14, 15, 1), (15, 16, 1), (16, 1, 1), (1, 3, 1), (3, 5, 1), (7, 9, 1), (9, 11, 1), (11, 13, 1), (13, 15, 1), (15, 1, 1), (5, 9, 1), (9, 13, 2), (13, 1, 1)]\n",
    "print(graph_edges)\n",
    "G = nx.MultiGraph()\n",
    "G.add_edges_from(graph_edges)\n",
    "nx.draw_circular(G, with_labels=True, edge_color='r', style='dashed', font_size='14',\n",
    "                 font_weight='bold',node_color='w', width=3,)\n",
    "\n",
    "nx.draw_circular(G, with_labels=True, edge_color='grey',edgelist=[(1,5),(5,7),(7,8)], style='dashed', font_size='14',\n",
    "                 font_weight='bold',node_color='w', width=3,)\n",
    "\n",
    "plt.savefig('/home/antal/Documents/eit/thesis/talks/thesis_summary/' + str(2) + '.png', bbox_inches='tight')\n",
    "plt.clf()"
   ]
  },
  {
   "cell_type": "code",
   "execution_count": 66,
   "metadata": {},
   "outputs": [
    {
     "name": "stdout",
     "output_type": "stream",
     "text": [
      "[(1, 2, 1), (2, 3, 1), (3, 4, 1), (4, 5, 1), (5, 6, 1), (6, 7, 1), (7, 8, 1), (8, 9, 1), (9, 10, 1), (10, 11, 1), (11, 12, 1), (12, 13, 1), (13, 14, 1), (14, 15, 1), (15, 16, 1), (16, 1, 1), (1, 3, 1), (3, 5, 1), (5, 7, 1), (7, 9, 1), (9, 11, 1), (11, 13, 1), (13, 15, 1), (15, 1, 1), (1, 5, 3), (5, 9, 1), (9, 13, 2), (13, 1, 1)]\n"
     ]
    },
    {
     "data": {
      "text/plain": [
       "<Figure size 432x288 with 0 Axes>"
      ]
     },
     "metadata": {},
     "output_type": "display_data"
    }
   ],
   "source": [
    "#graph_edges = [(1, 2, 1), (2, 3, 1), (3, 4, 1), (4, 5, 1), (5, 6, 1), (6, 7, 1), (8, 9, 1), (9, 10, 1), (10, 11, 1), (11, 12, 1), (12, 13, 1), (13, 14, 1), (14, 15, 1), (15, 16, 1), (16, 1, 1), (1, 3, 1), (3, 5, 1), (7, 9, 1), (9, 11, 1), (11, 13, 1), (13, 15, 1), (15, 1, 1), (5, 9, 1), (9, 13, 2), (13, 1, 1)]\n",
    "print(graph_edges)\n",
    "G = nx.MultiGraph()\n",
    "G.add_edges_from(graph_edges)\n",
    "nx.draw_circular(G, with_labels=True, edge_color='r', style='dashed', font_size='14',\n",
    "                 font_weight='bold',node_color='w', width=3,)\n",
    "\n",
    "nx.draw_circular(G, with_labels=True, edge_color='grey',edgelist=[(1,5),(5,7),(7,8),\n",
    "                                                                 (7,9),(9,13),(13,14)], style='dashed', font_size='14',\n",
    "                 font_weight='bold',node_color='w', width=3,)\n",
    "\n",
    "plt.savefig('/home/antal/Documents/eit/thesis/talks/thesis_summary/' + str(3) + '.png', bbox_inches='tight')\n",
    "plt.clf()"
   ]
  },
  {
   "cell_type": "code",
   "execution_count": 70,
   "metadata": {},
   "outputs": [
    {
     "name": "stdout",
     "output_type": "stream",
     "text": [
      "[(1, 2, 1), (2, 3, 1), (3, 4, 1), (4, 5, 1), (5, 6, 1), (6, 7, 1), (7, 8, 1), (8, 9, 1), (9, 10, 1), (10, 11, 1), (11, 12, 1), (12, 13, 1), (13, 14, 1), (14, 15, 1), (15, 16, 1), (16, 1, 1), (1, 3, 1), (3, 5, 1), (5, 7, 1), (7, 9, 1), (9, 11, 1), (11, 13, 1), (13, 15, 1), (15, 1, 1), (1, 5, 3), (5, 9, 1), (9, 13, 2), (13, 1, 1)]\n"
     ]
    },
    {
     "data": {
      "text/plain": [
       "<Figure size 432x288 with 0 Axes>"
      ]
     },
     "metadata": {},
     "output_type": "display_data"
    }
   ],
   "source": [
    "#graph_edges = [(1, 2, 1), (2, 3, 1), (3, 4, 1), (4, 5, 1), (5, 6, 1), (6, 7, 1), (8, 9, 1), (9, 10, 1), (10, 11, 1), (11, 12, 1), (12, 13, 1), (13, 14, 1), (14, 15, 1), (15, 16, 1), (16, 1, 1), (1, 3, 1), (3, 5, 1), (7, 9, 1), (9, 11, 1), (11, 13, 1), (13, 15, 1), (15, 1, 1), (5, 9, 1), (9, 13, 2), (13, 1, 1)]\n",
    "print(graph_edges)\n",
    "G = nx.MultiGraph()\n",
    "G.add_edges_from(graph_edges)\n",
    "nx.draw_circular(G, with_labels=True, edge_color='r', style='dashed', font_size='14',\n",
    "                 edgelist=[(1, 2, 1), (2, 3, 1), (3, 4, 1), (4, 5, 1), (5, 6, 1), (6, 7, 1), (8, 9, 1), (9, 10, 1), (10, 11, 1), (11, 12, 1), (12, 13, 1), (13, 14, 1), (14, 15, 1), (15, 16, 1), (16, 1, 1), (1, 3, 1), (3, 5, 1), (7, 9, 1), (9, 11, 1), (11, 13, 1), (13, 15, 1), (15, 1, 1), (5, 9, 1), (9, 13, 2)],\n",
    "                 font_weight='bold',node_color='w', width=3,)\n",
    "\n",
    "nx.draw_circular(G, with_labels=True, edge_color='grey',edgelist=[(1,5),(5,7),(7,8),\n",
    "                                                                 (7,9),(9,13),(13,14),\n",
    "                                                                 (12,13),(13,1),(1,3),(3,4)], style='dashed', font_size='14',\n",
    "                 font_weight='bold',node_color='w', width=3,)\n",
    "\n",
    "plt.savefig('/home/antal/Documents/eit/thesis/talks/thesis_summary/' + str(4) + '.png', bbox_inches='tight')\n",
    "plt.clf()"
   ]
  },
  {
   "cell_type": "code",
   "execution_count": 7,
   "metadata": {},
   "outputs": [
    {
     "data": {
      "text/plain": [
       "<Figure size 432x288 with 0 Axes>"
      ]
     },
     "metadata": {},
     "output_type": "display_data"
    }
   ],
   "source": [
    "G = nx.MultiGraph()\n",
    "G.add_edges_from(graph_edges)\n",
    "nx.draw_circular(G, with_labels=True, edge_color='r', style='dashed', font_size='14',\n",
    "                 edgelist=[(1, 2, 1), (2, 3, 1), (3, 4, 1), (4, 5, 1), (5, 6, 1), (6, 7, 1), (8, 9, 1), (9, 10, 1), (10, 11, 1), (11, 12, 1), (12, 13, 1), (13, 14, 1), (14, 15, 1), (15, 16, 1), (16, 1, 1), (1, 3, 1), (3, 5, 1), (7, 9, 1), (9, 11, 1), (11, 13, 1), (13, 15, 1), (15, 1, 1), (5, 9, 1), (9, 13, 2)],\n",
    "                 font_weight='bold',node_color='w', width=3,)\n",
    "\n",
    "nx.draw_circular(G, with_labels=True, edge_color='grey',edgelist=[(1,5),(5,7),(7,8),\n",
    "                                                                 (7,9),(9,13),(13,14),\n",
    "                                                                 (12,13),(13,1),(1,3),(3,4),\n",
    "                                                                 (13,15),(15,1),(1,2),(2,3)], style='dashed', font_size='14',\n",
    "                 font_weight='bold',node_color='w', width=3,)\n",
    "\n",
    "plt.savefig('/home/antal/Documents/eit/thesis/talks/thesis_summary/' + str(4) + '.png', bbox_inches='tight')\n",
    "plt.clf()"
   ]
  },
  {
   "cell_type": "code",
   "execution_count": null,
   "metadata": {},
   "outputs": [],
   "source": []
  }
 ],
 "metadata": {
  "kernelspec": {
   "display_name": "Python 3",
   "language": "python",
   "name": "python3"
  },
  "language_info": {
   "codemirror_mode": {
    "name": "ipython",
    "version": 3
   },
   "file_extension": ".py",
   "mimetype": "text/x-python",
   "name": "python",
   "nbconvert_exporter": "python",
   "pygments_lexer": "ipython3",
   "version": "3.7.2"
  }
 },
 "nbformat": 4,
 "nbformat_minor": 2
}
