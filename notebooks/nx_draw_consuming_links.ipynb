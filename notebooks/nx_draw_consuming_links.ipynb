{
 "cells": [
  {
   "cell_type": "code",
   "execution_count": 2,
   "metadata": {},
   "outputs": [],
   "source": [
    "'''\n",
    "Import the helper functions: map_tuple, mean\n",
    "'''\n",
    "%run ./lib/helper.py\n",
    "%run ./lib/graph.py\n",
    "%run ./lib/graph_edge_factory.py\n",
    "%run ./lib/plot.py\n",
    "%run ./lib/routing_simulation.py\n",
    "%run ./lib/routing_algorithms.py\n",
    "%run ./lib/logger.py"
   ]
  },
  {
   "cell_type": "code",
   "execution_count": 3,
   "metadata": {},
   "outputs": [],
   "source": [
    "import networkx as nx"
   ]
  },
  {
   "cell_type": "code",
   "execution_count": 60,
   "metadata": {},
   "outputs": [],
   "source": [
    "def draw_graph(graph_edges: list, dth: int = None):\n",
    "\n",
    "    G = nx.MultiGraph()\n",
    "    G.add_edges_from(graph_edges)\n",
    "    nx.draw_circular(G, with_labels=True, edge_color='r', style='dashed', font_size='14',\n",
    "                     font_weight='bold',node_color='w', width=3,)\n",
    "\n",
    "    if dth is not None:\n",
    "        plt.savefig('/home/antal/Documents/eit/thesis/talks/thesis_summary/' + str(dth) + '.png', bbox_inches='tight')\n",
    "    plt.clf()\n",
    "    return None"
   ]
  },
  {
   "cell_type": "markdown",
   "metadata": {},
   "source": [
    "# Complete graph"
   ]
  },
  {
   "cell_type": "code",
   "execution_count": 6,
   "metadata": {},
   "outputs": [],
   "source": [
    "factory = graph_edge_factory.GraphEdgesFactory(number_of_nodes = 16, distance_threshold=4)\n",
    "graph_edges = factory.generate_deterministic_graph_edges(factory.deterministic_link)\n",
    "\n"
   ]
  },
  {
   "cell_type": "markdown",
   "metadata": {},
   "source": [
    "# Consume the links along: [(1,5),(5,7),(7,8)]"
   ]
  },
  {
   "cell_type": "code",
   "execution_count": 65,
   "metadata": {},
   "outputs": [
    {
     "name": "stdout",
     "output_type": "stream",
     "text": [
      "[(1, 2, 1), (2, 3, 1), (3, 4, 1), (4, 5, 1), (5, 6, 1), (6, 7, 1), (7, 8, 1), (8, 9, 1), (9, 10, 1), (10, 11, 1), (11, 12, 1), (12, 13, 1), (13, 14, 1), (14, 15, 1), (15, 16, 1), (16, 1, 1), (1, 3, 1), (3, 5, 1), (5, 7, 1), (7, 9, 1), (9, 11, 1), (11, 13, 1), (13, 15, 1), (15, 1, 1), (1, 5, 3), (5, 9, 1), (9, 13, 2), (13, 1, 1)]\n"
     ]
    },
    {
     "data": {
      "text/plain": [
       "<Figure size 432x288 with 0 Axes>"
      ]
     },
     "metadata": {},
     "output_type": "display_data"
    }
   ],
   "source": [
    "#graph_edges = [(1, 2, 1), (2, 3, 1), (3, 4, 1), (4, 5, 1), (5, 6, 1), (6, 7, 1), (8, 9, 1), (9, 10, 1), (10, 11, 1), (11, 12, 1), (12, 13, 1), (13, 14, 1), (14, 15, 1), (15, 16, 1), (16, 1, 1), (1, 3, 1), (3, 5, 1), (7, 9, 1), (9, 11, 1), (11, 13, 1), (13, 15, 1), (15, 1, 1), (5, 9, 1), (9, 13, 2), (13, 1, 1)]\n",
    "print(graph_edges)\n",
    "G = nx.MultiGraph()\n",
    "G.add_edges_from(graph_edges)\n",
    "nx.draw_circular(G, with_labels=True, edge_color='r', style='dashed', font_size='14',\n",
    "                 font_weight='bold',node_color='w', width=3,)\n",
    "\n",
    "nx.draw_circular(G, with_labels=True, edge_color='grey',edgelist=[(1,5),(5,7),(7,8)], style='dashed', font_size='14',\n",
    "                 font_weight='bold',node_color='w', width=3,)\n",
    "\n",
    "plt.savefig('/home/antal/Documents/eit/thesis/talks/thesis_summary/' + str(2) + '.png', bbox_inches='tight')\n",
    "plt.clf()"
   ]
  },
  {
   "cell_type": "code",
   "execution_count": 66,
   "metadata": {},
   "outputs": [
    {
     "name": "stdout",
     "output_type": "stream",
     "text": [
      "[(1, 2, 1), (2, 3, 1), (3, 4, 1), (4, 5, 1), (5, 6, 1), (6, 7, 1), (7, 8, 1), (8, 9, 1), (9, 10, 1), (10, 11, 1), (11, 12, 1), (12, 13, 1), (13, 14, 1), (14, 15, 1), (15, 16, 1), (16, 1, 1), (1, 3, 1), (3, 5, 1), (5, 7, 1), (7, 9, 1), (9, 11, 1), (11, 13, 1), (13, 15, 1), (15, 1, 1), (1, 5, 3), (5, 9, 1), (9, 13, 2), (13, 1, 1)]\n"
     ]
    },
    {
     "data": {
      "text/plain": [
       "<Figure size 432x288 with 0 Axes>"
      ]
     },
     "metadata": {},
     "output_type": "display_data"
    }
   ],
   "source": [
    "#graph_edges = [(1, 2, 1), (2, 3, 1), (3, 4, 1), (4, 5, 1), (5, 6, 1), (6, 7, 1), (8, 9, 1), (9, 10, 1), (10, 11, 1), (11, 12, 1), (12, 13, 1), (13, 14, 1), (14, 15, 1), (15, 16, 1), (16, 1, 1), (1, 3, 1), (3, 5, 1), (7, 9, 1), (9, 11, 1), (11, 13, 1), (13, 15, 1), (15, 1, 1), (5, 9, 1), (9, 13, 2), (13, 1, 1)]\n",
    "print(graph_edges)\n",
    "G = nx.MultiGraph()\n",
    "G.add_edges_from(graph_edges)\n",
    "nx.draw_circular(G, with_labels=True, edge_color='r', style='dashed', font_size='14',\n",
    "                 font_weight='bold',node_color='w', width=3,)\n",
    "\n",
    "nx.draw_circular(G, with_labels=True, edge_color='grey',edgelist=[(1,5),(5,7),(7,8),\n",
    "                                                                 (7,9),(9,13),(13,14)], style='dashed', font_size='14',\n",
    "                 font_weight='bold',node_color='w', width=3,)\n",
    "\n",
    "plt.savefig('/home/antal/Documents/eit/thesis/talks/thesis_summary/' + str(3) + '.png', bbox_inches='tight')\n",
    "plt.clf()"
   ]
  },
  {
   "cell_type": "code",
   "execution_count": 70,
   "metadata": {},
   "outputs": [
    {
     "name": "stdout",
     "output_type": "stream",
     "text": [
      "[(1, 2, 1), (2, 3, 1), (3, 4, 1), (4, 5, 1), (5, 6, 1), (6, 7, 1), (7, 8, 1), (8, 9, 1), (9, 10, 1), (10, 11, 1), (11, 12, 1), (12, 13, 1), (13, 14, 1), (14, 15, 1), (15, 16, 1), (16, 1, 1), (1, 3, 1), (3, 5, 1), (5, 7, 1), (7, 9, 1), (9, 11, 1), (11, 13, 1), (13, 15, 1), (15, 1, 1), (1, 5, 3), (5, 9, 1), (9, 13, 2), (13, 1, 1)]\n"
     ]
    },
    {
     "data": {
      "text/plain": [
       "<Figure size 432x288 with 0 Axes>"
      ]
     },
     "metadata": {},
     "output_type": "display_data"
    }
   ],
   "source": [
    "#graph_edges = [(1, 2, 1), (2, 3, 1), (3, 4, 1), (4, 5, 1), (5, 6, 1), (6, 7, 1), (8, 9, 1), (9, 10, 1), (10, 11, 1), (11, 12, 1), (12, 13, 1), (13, 14, 1), (14, 15, 1), (15, 16, 1), (16, 1, 1), (1, 3, 1), (3, 5, 1), (7, 9, 1), (9, 11, 1), (11, 13, 1), (13, 15, 1), (15, 1, 1), (5, 9, 1), (9, 13, 2), (13, 1, 1)]\n",
    "print(graph_edges)\n",
    "G = nx.MultiGraph()\n",
    "G.add_edges_from(graph_edges)\n",
    "nx.draw_circular(G, with_labels=True, edge_color='r', style='dashed', font_size='14',\n",
    "                 edgelist=[(1, 2, 1), (2, 3, 1), (3, 4, 1), (4, 5, 1), (5, 6, 1), (6, 7, 1), (8, 9, 1), (9, 10, 1), (10, 11, 1), (11, 12, 1), (12, 13, 1), (13, 14, 1), (14, 15, 1), (15, 16, 1), (16, 1, 1), (1, 3, 1), (3, 5, 1), (7, 9, 1), (9, 11, 1), (11, 13, 1), (13, 15, 1), (15, 1, 1), (5, 9, 1), (9, 13, 2)],\n",
    "                 font_weight='bold',node_color='w', width=3,)\n",
    "\n",
    "nx.draw_circular(G, with_labels=True, edge_color='grey',edgelist=[(1,5),(5,7),(7,8),\n",
    "                                                                 (7,9),(9,13),(13,14),\n",
    "                                                                 (12,13),(13,1),(1,3),(3,4)], style='dashed', font_size='14',\n",
    "                 font_weight='bold',node_color='w', width=3,)\n",
    "\n",
    "plt.savefig('/home/antal/Documents/eit/thesis/talks/thesis_summary/' + str(4) + '.png', bbox_inches='tight')\n",
    "plt.clf()"
   ]
  },
  {
   "cell_type": "code",
   "execution_count": 7,
   "metadata": {},
   "outputs": [
    {
     "data": {
      "text/plain": [
       "<Figure size 432x288 with 0 Axes>"
      ]
     },
     "metadata": {},
     "output_type": "display_data"
    }
   ],
   "source": [
    "G = nx.MultiGraph()\n",
    "G.add_edges_from(graph_edges)\n",
    "nx.draw_circular(G, with_labels=True, edge_color='r', style='dashed', font_size='14',\n",
    "                 edgelist=[(1, 2, 1), (2, 3, 1), (3, 4, 1), (4, 5, 1), (5, 6, 1), (6, 7, 1), (8, 9, 1), (9, 10, 1), (10, 11, 1), (11, 12, 1), (12, 13, 1), (13, 14, 1), (14, 15, 1), (15, 16, 1), (16, 1, 1), (1, 3, 1), (3, 5, 1), (7, 9, 1), (9, 11, 1), (11, 13, 1), (13, 15, 1), (15, 1, 1), (5, 9, 1), (9, 13, 2)],\n",
    "                 font_weight='bold',node_color='w', width=3,)\n",
    "\n",
    "nx.draw_circular(G, with_labels=True, edge_color='grey',edgelist=[(1,5),(5,7),(7,8),\n",
    "                                                                 (7,9),(9,13),(13,14),\n",
    "                                                                 (12,13),(13,1),(1,3),(3,4),\n",
    "                                                                 (13,15),(15,1),(1,2),(2,3)], style='dashed', font_size='14',\n",
    "                 font_weight='bold',node_color='w', width=3,)\n",
    "\n",
    "plt.savefig('/home/antal/Documents/eit/thesis/talks/thesis_summary/' + str(4) + '.png', bbox_inches='tight')\n",
    "plt.clf()"
   ]
  },
  {
   "cell_type": "code",
   "execution_count": null,
   "metadata": {},
   "outputs": [],
   "source": []
  }
 ],
 "metadata": {
  "kernelspec": {
   "display_name": "Python 3",
   "language": "python",
   "name": "python3"
  },
  "language_info": {
   "codemirror_mode": {
    "name": "ipython",
    "version": 3
   },
   "file_extension": ".py",
   "mimetype": "text/x-python",
   "name": "python",
   "nbconvert_exporter": "python",
   "pygments_lexer": "ipython3",
   "version": "3.7.0"
  }
 },
 "nbformat": 4,
 "nbformat_minor": 2
}
