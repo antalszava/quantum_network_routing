{
 "cells": [
  {
   "cell_type": "markdown",
   "metadata": {},
   "source": [
    "# Importing files needed from the quantum network routing library"
   ]
  },
  {
   "cell_type": "code",
   "execution_count": null,
   "metadata": {},
   "outputs": [],
   "source": [
    "%run ./lib/helper.py\n",
    "%run ./lib/graph.py\n",
    "%run ./lib/graph_edge_factory.py\n",
    "%run ./lib/plot.py\n",
    "%run ./lib/routing_simulation.py\n",
    "%run ./lib/routing_algorithms.py\n",
    "%run ./lib/logger.py\n",
    "%run ./lib/parse_from_log.py\n",
    "%run ./lib/shortest_path.py"
   ]
  },
  {
   "cell_type": "markdown",
   "metadata": {},
   "source": [
    "# Running simulations for the initial knowledge approach"
   ]
  },
  {
   "cell_type": "code",
   "execution_count": null,
   "metadata": {},
   "outputs": [],
   "source": [
    "results = {}\n",
    "samples = 5\n",
    "max_dth = 4\n",
    "start = time.time()\n",
    "for dth in range(0, 3):\n",
    "    threshold = 2 ** dth\n",
    "    factory = VirtualEdgeFactory(distance_threshold=threshold, max_distance_threshold=max_dth)\n",
    "    graph_edges = factory.generate_deterministic_graph_edges()\n",
    "    \n",
    "    # Creating the settings for the simulation\n",
    "    simulation_settings = SimulationSettings(number_of_samples=samples)\n",
    "    topology_settings = TopologySettings(graph_edges=graph_edges, distance_threshold=threshold)\n",
    "    list_of_algorithm_settings = [AlgorithmSettings(algorithm=initial_knowledge_init)]\n",
    "    \n",
    "    # Initialize the results based on the name of the current approaches for the algorithms\n",
    "    # If they were not initialized already\n",
    "    for algorithm in list_of_algorithm_settings:\n",
    "        if algorithm.approach_name not in results:\n",
    "            results[algorithm.approach_name] = []\n",
    "    \n",
    "    # Passing the settings to create a Simulation object\n",
    "    simulation = routing_simulation.Simulation(simulation_settings = simulation_settings,\n",
    "                                              topology_settings = topology_settings,\n",
    "                                              list_of_algorithm_settings = list_of_algorithm_settings)\n",
    "    \n",
    "    simulation.run_algorithm_for_graphs()\n",
    "    \n",
    "    # Iterate through the algorithms that were defined and aggregate the results\n",
    "    # E.g. 'initial_knowledge_init' is a key if AlgorithmSettings(algorithm=initial_knowledge_init)\n",
    "    # was an element in the list_of_algorithm_settings\n",
    "    for approach_name in simulation.final_results.keys():\n",
    "        results[approach_name].append(simulation.final_results[approach_name])\n",
    "end = time.time()\n",
    "write_results_to_file(initial_knowledge_results, 'initial_knowledge_deterministic_graph_dth_' + str(threshold), '' , (end - start))\n",
    "plot_results(initial_knowledge_results, 'initial_knowledge_maxdth_' + str(max_dth) + str(end-start),\n",
    "                 save_tikz = False)"
   ]
  },
  {
   "cell_type": "code",
   "execution_count": null,
   "metadata": {},
   "outputs": [],
   "source": [
    "samples = 1000\n",
    "threshold = 4\n",
    "max_dth = 4\n",
    "\n",
    "initial_knowledge_settings = routing_simulation.AlgorithmSettings(algorithm=routing_algorithms.initial_knowledge_init)\n",
    "initial_knowledge_link_prediction_settings = routing_simulation.AlgorithmSettings(algorithm=\n",
    "                                                                        routing_algorithms.initial_knowledge_init,\n",
    "                                                                        link_prediction=True)\n",
    "\n",
    "algorithm_settings = [initial_knowledge_settings, initial_knowledge_link_prediction_settings]\n",
    "simulation_settings = routing_simulation.SimulationSettings(number_of_samples=samples)\n",
    "\n",
    "factory = graph_edge_factory.VirtualEdgeFactory(distance_threshold=threshold, max_distance_threshold=max_dth)\n",
    "graph_edges = factory.generate_deterministic_graph_edges()\n",
    "\n",
    "topology_settings = routing_simulation.TopologySettings(graph_edges=graph_edges, distance_threshold=threshold)\n",
    "\n",
    "simulation = routing_simulation.Simulation(simulation_settings, topology_settings, algorithm_settings)\n",
    "\n",
    "start = time.time()\n",
    "simulation.run_algorithm_for_graphs()\n",
    "end = time.time()\n",
    "print(end-start)\n",
    "plot_results(list(simulation.final_results.values()), '_maxdth_'\n",
    "                      + str(max_dth) + str(end - start), save_tikz=False)"
   ]
  },
  {
   "cell_type": "code",
   "execution_count": null,
   "metadata": {},
   "outputs": [],
   "source": [
    "plot_results(list(simulation.final_results.values()), '_maxdth_'\n",
    "                      + str(max_dth) + str(end - start), save_tikz=True)"
   ]
  },
  {
   "cell_type": "code",
   "execution_count": null,
   "metadata": {},
   "outputs": [],
   "source": [
    "print(end-start)"
   ]
  },
  {
   "cell_type": "code",
   "execution_count": null,
   "metadata": {},
   "outputs": [],
   "source": [
    "plot_results(list(simulation.final_results.values()), '_maxdth_'\n",
    "                      + str(max_dth) + str(end - start), save_tikz=False)"
   ]
  },
  {
   "cell_type": "code",
   "execution_count": null,
   "metadata": {},
   "outputs": [],
   "source": [
    "samples = 5\n",
    "threshold = 4\n",
    "max_dth = 4\n",
    "algorithms = [routing_algorithms.initial_knowledge_init]\n",
    "algorithm_names = [algo.__name__ for algo in algorithms]\n",
    "\n",
    "simulation_settings = routing_simulation.SimulationSettings(algorithms=algorithms, number_of_samples=samples,\n",
    "                                                                link_prediction=True)\n",
    "\n",
    "factory = graph_edge_factory.VirtualEdgeFactory(distance_threshold=threshold, max_distance_threshold=max_dth)\n",
    "graph_edges = factory.generate_deterministic_graph_edges()\n",
    "\n",
    "topology_settings = routing_simulation.TopologySettings(graph_edges=graph_edges, distance_threshold=threshold)\n",
    "\n",
    "simulation = routing_simulation.Simulation(simulation_settings, topology_settings)\n",
    "\n",
    "start = time.time()\n",
    "simulation.run_algorithm_for_graphs()\n",
    "end = time.time()\n",
    "print(end-start)"
   ]
  },
  {
   "cell_type": "code",
   "execution_count": null,
   "metadata": {},
   "outputs": [],
   "source": [
    "print(simulation.final_results)\n",
    "for algo_name in algorithm_names:\n",
    "    plot_results([simulation.final_results[algo_name]], 'initial_knowledge_maxdth_'\n",
    "                      + str(max_dth) + str(end - start), save_tikz=False)"
   ]
  },
  {
   "cell_type": "code",
   "execution_count": null,
   "metadata": {},
   "outputs": [],
   "source": [
    "print(end-start)"
   ]
  },
  {
   "cell_type": "markdown",
   "metadata": {},
   "source": [
    "# Running simulations for the initial knowledge approach with link prediction"
   ]
  },
  {
   "cell_type": "code",
   "execution_count": null,
   "metadata": {},
   "outputs": [],
   "source": [
    "initial_knowledge_results = []\n",
    "samples = 1000\n",
    "max_dth = 4\n",
    "start = time.time()\n",
    "threshold = 2 ** 2\n",
    "factory = VirtualEdgeFactory(distance_threshold=threshold, max_distance_threshold=max_dth)\n",
    "graph_edges = factory.generate_deterministic_graph_edges()\n",
    "arguments = {'algorithm': initial_knowledge_init, 'graph_edges': graph_edges,\n",
    "             'link_prediction': True, 'exponential_scale': True}\n",
    "topology_result, length = routing_simulation.run_algorithm_for_graphs(50, samples, arguments)\n",
    "initial_knowledge_results.append(topology_result)\n",
    "end = time.time()\n",
    "write_results_to_file(initial_knowledge_results, 'initial_knowledge_link_prediction_betweenness_centrality_maxdth_' + str(max_dth), '' , (end - start))\n",
    "plot_results(initial_knowledge_results, 'initial_knowledge_link_prediction_betweenness_centrality_maxdth_' + str(max_dth) + str(end-start),\n",
    "                  save_tikz = False)"
   ]
  },
  {
   "cell_type": "code",
   "execution_count": null,
   "metadata": {},
   "outputs": [],
   "source": [
    "# Most recent 07_03 results on link prediction dth4\n",
    "prev_initial_knowledge_results = [([3.187, 25376924.8295, 23695952.327333335, 57674897.82725, 72384375.88379999, 88317787.81816667, 70425871.3912857, 78056792.641875, 76390065.40522222, 90180026.344, 104042818.007, 110021227.99466667, 122756573.75792308, 136445689.6432857, 126032261.54453333, 138839791.1431875, 134772758.20517644, 147303376.3501111, 156565465.3101053, 155198448.41725, 161736190.55885714, 164731321.38468182, 174656713.75134784, 168891720.3729583, 173298523.19079998, 176778737.55376923, 172333419.8165926, 183219566.69789284, 185609445.2279655, 184161867.3931667, 183222634.41370967, 183803216.34790626, 185682307.01684847, 184380434.25164706, 193770106.10477144, 189642704.54333335, 199815018.07678378, 202146639.2880263, 194805185.0677436, 191339625.66219997, 192111090.84731704, 196032791.94583336, 200077693.70360464, 204043323.92138636, 203215318.2411778, 199245062.39484784, 197644217.53885108, 202992645.32439584, 198243193.4680408, 198229256.15730003], [52.813, 51.174, 49.70166666666667, 48.34525, 47.006, 45.78866666666667, 44.301, 42.732, 41.2, 39.8725, 38.452636363636366, 37.094583333333325, 35.86369230769231, 34.55264285714286, 33.42353333333334, 32.41025, 31.320647058823532, 30.34, 29.434736842105263, 28.607800000000005, 27.801571428571428, 26.927409090909087, 26.066739130434783, 25.450666666666663, 24.720519999999997, 23.919192307692306, 23.107296296296294, 22.467, 21.6991724137931, 21.0258, 20.345870967741934, 19.81478125, 19.189333333333334, 18.637558823529414, 18.264342857142857, 17.764333333333333, 17.287513513513513, 16.829052631578946, 16.41858974358974, 15.960974999999998, 15.651853658536586, 15.271809523809525, 14.846139534883722, 14.584545454545454, 14.199066666666667, 13.908369565217392, 13.64659574468085, 13.389, 13.158061224489797, 12.8322], [52.813, 51.174, 49.70166666666667, 48.34525, 47.006, 45.78866666666667, 44.301, 42.732, 41.2, 39.8725, 38.452636363636366, 37.094583333333325, 35.86369230769231, 34.55264285714286, 33.42353333333334, 32.41025, 31.320647058823532, 30.34, 29.434736842105263, 28.607800000000005, 27.801571428571428, 26.927409090909087, 26.066739130434783, 25.450666666666663, 24.720519999999997, 23.919192307692306, 23.107296296296294, 22.467, 21.6991724137931, 21.0258, 20.345870967741934, 19.81478125, 19.189333333333334, 18.637558823529414, 18.264342857142857, 17.764333333333333, 17.287513513513513, 16.829052631578946, 16.41858974358974, 15.960974999999998, 15.651853658536586, 15.271809523809525, 14.846139534883722, 14.584545454545454, 14.199066666666667, 13.908369565217392, 13.64659574468085, 13.389, 13.158061224489797, 12.8322], [3.187, 3.3175, 3.353666666666667, 3.36525, 3.3786, 3.421833333333333, 3.626857142857143, 3.808375, 3.9943333333333335, 4.1055, 4.225727272727272, 4.370583333333333, 4.463846153846155, 4.577, 4.674533333333333, 4.7421875, 4.787588235294117, 4.858444444444444, 4.932578947368421, 4.965199999999999, 5.012619047619046, 5.0555, 5.082521739130435, 5.102791666666667, 5.286479999999999, 5.479269230769231, 5.5932962962962955, 5.7310357142857145, 5.815310344827587, 5.915566666666667, 5.988, 6.06296875, 6.14590909090909, 6.167117647058824, 6.248600000000001, 6.320666666666666, 6.394081081081081, 6.463026315789473, 6.500358974358974, 6.563825, 6.552463414634147, 6.6052857142857135, 6.6752558139534885, 6.731931818181818, 6.732044444444445, 6.7745, 6.810829787234042, 6.8475, 6.870367346938776, 6.891799999999999])]\n",
    "print(initial_knowledge_results)\n"
   ]
  },
  {
   "cell_type": "code",
   "execution_count": null,
   "metadata": {},
   "outputs": [],
   "source": [
    "prev_initial_knowledge_results_lat = prev_initial_knowledge_results[0]\n",
    "initial_knowledge_results_lat = initial_knowledge_results[0]\n",
    "plot_results([prev_initial_knowledge_results_lat, initial_knowledge_results_lat], 'initial_knowledge_link_prediction_betweenness_centrality_maxdth_' + str(max_dth) + str(end-start),\n",
    "                  save_tikz = False)"
   ]
  },
  {
   "cell_type": "code",
   "execution_count": null,
   "metadata": {},
   "outputs": [],
   "source": [
    "print(prev_initial_knowledge_results_lat[0])"
   ]
  },
  {
   "cell_type": "code",
   "execution_count": null,
   "metadata": {},
   "outputs": [],
   "source": [
    "prev_results = [3.174, 9396662.533, 27279415.591, 30377658.55725, 33972222.5766, 42784361.9725, 53903897.01485715, 72868449.5385, 82129426.49822223, 100592418.2225, 123486774.04381818, 116053342.86525, 127676800.29038462, 128053217.98464285, 136389725.2744, 137250175.7606875, 150400639.02847058, 139828789.4186111, 152152622.3239474, 155780064.27115002, 160904304.41319048, 163175233.3700909, 167332644.79782608, 169492352.83375, 166378388.7694, 176015612.9471923, 179462560.45362964, 184459027.9214643, 177513680.18079308, 178047651.79356664]"
   ]
  },
  {
   "cell_type": "code",
   "execution_count": null,
   "metadata": {},
   "outputs": [],
   "source": [
    "print(len(prev_results))"
   ]
  },
  {
   "cell_type": "code",
   "execution_count": null,
   "metadata": {},
   "outputs": [],
   "source": [
    "plot_results([(prev_results,),(initial_knowledge_results[0][0],)], 'initial_knowledge_link_prediction_betweenness_centrality_maxdth_' + str(max_dth) + str(end-start),\n",
    "                  save_tikz = True)"
   ]
  },
  {
   "cell_type": "code",
   "execution_count": null,
   "metadata": {},
   "outputs": [],
   "source": [
    "print(end-start)"
   ]
  },
  {
   "cell_type": "code",
   "execution_count": null,
   "metadata": {},
   "outputs": [],
   "source": [
    "print(initial_knowledge_results)"
   ]
  },
  {
   "cell_type": "code",
   "execution_count": null,
   "metadata": {},
   "outputs": [],
   "source": [
    "initial_knowledge_results = []\n",
    "samples = 1000\n",
    "start = time.time()\n",
    "threshold = 4\n",
    "factory = graph_edge_factory.VirtualEdgeFactory(distance_threshold=threshold)\n",
    "graph_edges = factory.generate_random_power_law_graph_edges()\n",
    "arguments = {'algorithm': initial_knowledge_init, 'graph_edges': graph_edges,\n",
    "             'link_prediction': True, 'exponential_scale': True}\n",
    "topology_result, length = routing_simulation.run_algorithm_for_graphs(30, samples, arguments)\n",
    "initial_knowledge_results.append(topology_result)\n",
    "end = time.time()\n",
    "write_results_to_file(initial_knowledge_results, 'initial_knowledge_random_link_prediction_betweenness_centrality_dth_' + str(threshold), '' , (end - start))\n",
    "plot_results(initial_knowledge_results, 'initial_knowledge_random_link_prediction_betweenness_centrality_dth_' + str(threshold) + str(end-start),\n",
    "                  save_tikz = False)"
   ]
  },
  {
   "cell_type": "code",
   "execution_count": null,
   "metadata": {},
   "outputs": [],
   "source": [
    "print(initial_knowledge_results)"
   ]
  }
 ],
 "metadata": {
  "kernelspec": {
   "display_name": "Python 3",
   "language": "python",
   "name": "python3"
  },
  "language_info": {
   "codemirror_mode": {
    "name": "ipython",
    "version": 3
   },
   "file_extension": ".py",
   "mimetype": "text/x-python",
   "name": "python",
   "nbconvert_exporter": "python",
   "pygments_lexer": "ipython3",
   "version": "3.7.6"
  }
 },
 "nbformat": 4,
 "nbformat_minor": 2
}
