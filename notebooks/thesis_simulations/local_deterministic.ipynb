{
 "cells": [
  {
   "cell_type": "code",
   "execution_count": 1,
   "metadata": {},
   "outputs": [],
   "source": [
    "%run ../lib/helper.py\n",
    "%run ../lib/graph.py\n",
    "%run ../lib/graph_edge_factory.py\n",
    "%run ../lib/plot.py\n",
    "%run ../lib/routing_simulation.py\n",
    "%run ../lib/routing_algorithms.py\n",
    "%run ../lib/logger.py\n",
    "%run ../lib/parse_from_log.py\n",
    "%run ../lib/shortest_path.py"
   ]
  },
  {
   "cell_type": "code",
   "execution_count": 2,
   "metadata": {},
   "outputs": [
    {
     "data": {
      "text/plain": [
       "<Figure size 432x288 with 0 Axes>"
      ]
     },
     "metadata": {},
     "output_type": "display_data"
    }
   ],
   "source": [
    "local_knowledge_results = []\n",
    "initial_knowledge_errors = []\n",
    "samples = 1000\n",
    "max_dth = 4\n",
    "propagation_radius = 5\n",
    "start = time.time()\n",
    "\n",
    "# On-demand\n",
    "factory = VirtualEdgeFactory(distance_threshold=4, max_distance_threshold=max_dth, capacity=0)\n",
    "graph_edges = factory.generate_deterministic_graph_edges()\n",
    "arguments = {'algorithm': routing_algorithms.local_knowledge_algorithm, 'graph_edges': graph_edges,\n",
    "             'link_prediction': False, 'exponential_scale': True, 'propagation_radius': propagation_radius}\n",
    "topology_result, errors, length = routing_simulation.run_algorithm_for_graphs(50, samples, arguments)\n",
    "local_knowledge_results.append(topology_result)\n",
    "initial_knowledge_errors.append(errors)\n",
    "for dth in range(0, 3):\n",
    "    threshold = 2 ** dth\n",
    "    factory = VirtualEdgeFactory(distance_threshold=threshold, max_distance_threshold=max_dth)\n",
    "    graph_edges = factory.generate_deterministic_graph_edges()\n",
    "    arguments = {'algorithm': routing_algorithms.local_knowledge_algorithm, 'graph_edges': graph_edges,\n",
    "                 'link_prediction': False, 'exponential_scale': True, 'propagation_radius': propagation_radius}\n",
    "    topology_result, errors, length = routing_simulation.run_algorithm_for_graphs(50, samples, arguments)\n",
    "    local_knowledge_results.append(topology_result)\n",
    "    initial_knowledge_errors.append(errors)\n",
    "end = time.time()\n",
    "write_results_to_file(local_knowledge_results, 'results/local_knowledge_'+ str(propagation_radius) + '_deterministic_graph_dth_' + str(threshold), '' , (end - start))\n",
    "write_results_to_file(initial_knowledge_errors, 'errors/local_knowledge_'+ str(propagation_radius) + '_deterministic_graph_dth_errors_maxdth_' + str(max_dth), '' , (end - start))\n",
    "plot_results(local_knowledge_results, 'local_knowledge_'+ str(propagation_radius) + '_deterministic_graph_dth_' + str(max_dth) + str(end-start),\n",
    "                  save_tikz = True)"
   ]
  },
  {
   "cell_type": "markdown",
   "metadata": {},
   "source": [
    "# Polynomial scaling"
   ]
  },
  {
   "cell_type": "code",
   "execution_count": 6,
   "metadata": {},
   "outputs": [
    {
     "data": {
      "text/plain": [
       "<Figure size 432x288 with 0 Axes>"
      ]
     },
     "metadata": {},
     "output_type": "display_data"
    }
   ],
   "source": [
    "initial_knowledge_results = []\n",
    "initial_knowledge_errors = []\n",
    "samples = 1000\n",
    "max_dth = 4\n",
    "start = time.time()\n",
    "threshold = 4\n",
    "factory = VirtualEdgeFactory(distance_threshold=threshold, max_distance_threshold=max_dth)\n",
    "graph_edges = factory.generate_deterministic_graph_edges()\n",
    "arguments = {'algorithm': initial_knowledge_init, 'graph_edges': graph_edges,\n",
    "             'link_prediction': False, 'exponential_scale': False}\n",
    "topology_result, errors, length = routing_simulation.run_algorithm_for_graphs(50, samples, arguments)\n",
    "initial_knowledge_results.append(topology_result)\n",
    "initial_knowledge_errors.append(errors)\n",
    "end = time.time()\n",
    "write_results_to_file(initial_knowledge_results, 'results/initial_knowledge_polynomial_maxdth_' + str(max_dth), '' , (end - start))\n",
    "write_results_to_file(initial_knowledge_errors, 'errors/initial_knowledge_polynomial_errors_maxdth_' + str(max_dth), '' , (end - start))\n",
    "plot_results(initial_knowledge_results, 'initial_knowledge_polynomial_maxdth_' + str(max_dth) + str(end-start),\n",
    "                  save_tikz = True)"
   ]
  },
  {
   "cell_type": "code",
   "execution_count": null,
   "metadata": {},
   "outputs": [],
   "source": []
  }
 ],
 "metadata": {
  "kernelspec": {
   "display_name": "Python 3",
   "language": "python",
   "name": "python3"
  },
  "language_info": {
   "codemirror_mode": {
    "name": "ipython",
    "version": 3
   },
   "file_extension": ".py",
   "mimetype": "text/x-python",
   "name": "python",
   "nbconvert_exporter": "python",
   "pygments_lexer": "ipython3",
   "version": "3.7.4"
  }
 },
 "nbformat": 4,
 "nbformat_minor": 2
}
