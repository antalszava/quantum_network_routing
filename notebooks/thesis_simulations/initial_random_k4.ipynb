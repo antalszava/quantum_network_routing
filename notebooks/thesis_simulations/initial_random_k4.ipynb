{
 "cells": [
  {
   "cell_type": "code",
   "execution_count": 1,
   "metadata": {},
   "outputs": [],
   "source": [
    "%run ../lib/helper.py\n",
    "%run ../lib/graph.py\n",
    "%run ../lib/graph_edge_factory.py\n",
    "%run ../lib/plot.py\n",
    "%run ../lib/routing_simulation.py\n",
    "%run ../lib/routing_algorithms.py\n",
    "%run ../lib/logger.py\n",
    "%run ../lib/parse_from_log.py\n",
    "%run ../lib/shortest_path.py"
   ]
  },
  {
   "cell_type": "code",
   "execution_count": null,
   "metadata": {},
   "outputs": [],
   "source": [
    "initial_knowledge_results = []\n",
    "initial_knowledge_errors = []\n",
    "samples = 1000\n",
    "max_dth = 16\n",
    "start = time.time()\n",
    "for dth in range(1, 5):\n",
    "    threshold = 2 ** dth\n",
    "    power_law_results = []\n",
    "    for sampling_power_law in range(10):\n",
    "        factory = graph_edge_factory.VirtualEdgeFactory(distance_threshold=threshold, max_distance_threshold=max_dth)\n",
    "        graph_edges = factory.generate_random_power_law_graph_edges(number_of_links=4)\n",
    "        arguments = {'algorithm': routing_algorithms.initial_knowledge_init, 'graph_edges': graph_edges,\n",
    "                     'link_prediction': False, 'exponential_scale': True}\n",
    "        local_result, errors, length = routing_simulation.run_algorithm_for_graphs(50, samples, arguments)\n",
    "        power_law_results.append(local_result)\n",
    "    temp = [list(zip(*item)) for item in list(zip(*power_law_results))]\n",
    "    topology_result = [helper.map_tuple_gen(np.mean, x) for x in temp]\n",
    "    initial_knowledge_results.append(topology_result)\n",
    "    initial_knowledge_errors.append(errors)\n",
    "end = time.time()\n",
    "write_results_to_file(initial_knowledge_results, 'results/initial_knowledge_random_k4_graph_dth_' + str(threshold), '' , (end - start))\n",
    "write_results_to_file(initial_knowledge_errors, 'errors/initial_knowledge_random_k4_graph_errors_maxdth_' + str(max_dth), '' , (end - start))\n",
    "plot.plot_results(initial_knowledge_results, 'initial_knowledge_random_k4_graph_dth_' + str(max_dth) + str(end - start),\n",
    "             save_tikz=True)\n",
    "plot.plot_results(initial_knowledge_results, 'initial_knowledge_random_k4_graph_dth_' + str(max_dth) + str(end - start),\n",
    "             save_tikz=False)"
   ]
  },
  {
   "cell_type": "code",
   "execution_count": 4,
   "metadata": {},
   "outputs": [
    {
     "data": {
      "text/plain": [
       "<Figure size 432x288 with 0 Axes>"
      ]
     },
     "metadata": {},
     "output_type": "display_data"
    }
   ],
   "source": [
    "initial_knowledge_results = []\n",
    "initial_knowledge_errors = []\n",
    "samples = 10000\n",
    "max_dth = 16\n",
    "start = time.time()\n",
    "for dth in range(1, 5):\n",
    "    threshold = 2 ** dth\n",
    "    factory = VirtualEdgeFactory(distance_threshold=threshold, max_distance_threshold=max_dth)\n",
    "    graph_edges = factory.generate_random_power_law_graph_edges(number_of_links=4)\n",
    "    arguments = {'algorithm': initial_knowledge_init, 'graph_edges': graph_edges,\n",
    "                 'link_prediction': False, 'exponential_scale': True}\n",
    "    topology_result, errors, length = routing_simulation.run_algorithm_for_graphs(50, samples, arguments)\n",
    "    initial_knowledge_results.append(topology_result)\n",
    "    initial_knowledge_errors.append(errors)\n",
    "end = time.time()\n",
    "write_results_to_file(initial_knowledge_results, 'results/initial_knowledge_random_k4_graph_dth_' + str(threshold), '' , (end - start))\n",
    "write_results_to_file(initial_knowledge_errors, 'errors/initial_knowledge_random_k4_graph_errors_maxdth_' + str(max_dth), '' , (end - start))\n",
    "plot_results(initial_knowledge_results, 'initial_knowledge_random_k4_graph_dth_' + str(max_dth) + str(end-start),\n",
    "                  save_tikz = True)"
   ]
  },
  {
   "cell_type": "code",
   "execution_count": 6,
   "metadata": {},
   "outputs": [
    {
     "data": {
      "text/plain": [
       "<Figure size 432x288 with 0 Axes>"
      ]
     },
     "metadata": {},
     "output_type": "display_data"
    }
   ],
   "source": [
    "plot_results(initial_knowledge_results, 'initial_knowledge_random_k4_graph_dth_' + str(max_dth) + str(end-start),\n",
    "                  save_tikz = True)"
   ]
  },
  {
   "cell_type": "code",
   "execution_count": null,
   "metadata": {},
   "outputs": [],
   "source": []
  }
 ],
 "metadata": {
  "kernelspec": {
   "display_name": "Python 3",
   "language": "python",
   "name": "python3"
  },
  "language_info": {
   "codemirror_mode": {
    "name": "ipython",
    "version": 3
   },
   "file_extension": ".py",
   "mimetype": "text/x-python",
   "name": "python",
   "nbconvert_exporter": "python",
   "pygments_lexer": "ipython3",
   "version": "3.7.4"
  }
 },
 "nbformat": 4,
 "nbformat_minor": 2
}
