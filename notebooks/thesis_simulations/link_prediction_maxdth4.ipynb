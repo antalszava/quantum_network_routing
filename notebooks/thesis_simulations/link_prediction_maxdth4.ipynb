{
 "cells": [
  {
   "cell_type": "code",
   "execution_count": 1,
   "metadata": {},
   "outputs": [],
   "source": [
    "%run ../lib/helper.py\n",
    "%run ../lib/graph.py\n",
    "%run ../lib/graph_edge_factory.py\n",
    "%run ../lib/plot.py\n",
    "%run ../lib/routing_simulation.py\n",
    "%run ../lib/routing_algorithms.py\n",
    "%run ../lib/logger.py\n",
    "%run ../lib/parse_from_log.py\n",
    "%run ../lib/shortest_path.py"
   ]
  },
  {
   "cell_type": "code",
   "execution_count": 2,
   "metadata": {},
   "outputs": [
    {
     "name": "stderr",
     "output_type": "stream",
     "text": [
      "/home/antal/anaconda3/lib/python3.7/site-packages/numpy/core/_methods.py:140: RuntimeWarning: Degrees of freedom <= 0 for slice\n",
      "  keepdims=keepdims)\n",
      "/home/antal/anaconda3/lib/python3.7/site-packages/numpy/core/_methods.py:132: RuntimeWarning: invalid value encountered in double_scalars\n",
      "  ret = ret.dtype.type(ret / rcount)\n"
     ]
    },
    {
     "data": {
      "text/plain": [
       "<Figure size 432x288 with 0 Axes>"
      ]
     },
     "metadata": {},
     "output_type": "display_data"
    }
   ],
   "source": [
    "initial_knowledge_results = []\n",
    "initial_knowledge_errors = []\n",
    "samples = 1000\n",
    "max_dth = 4\n",
    "start = time.time()\n",
    "threshold = 4\n",
    "factory = VirtualEdgeFactory(distance_threshold=threshold, max_distance_threshold=max_dth)\n",
    "graph_edges = factory.generate_deterministic_graph_edges()\n",
    "arguments = {'algorithm': initial_knowledge_init, 'graph_edges': graph_edges,\n",
    "             'link_prediction': True, 'exponential_scale': True}\n",
    "topology_result, errors, length = routing_simulation.run_algorithm_for_graphs(50, samples, arguments)\n",
    "initial_knowledge_results.append(topology_result)\n",
    "initial_knowledge_errors.append(errors)\n",
    "end = time.time()\n",
    "write_results_to_file(initial_knowledge_results, 'results/initial_knowledge_link_prediction_maxdth_' + str(max_dth), '' , (end - start))\n",
    "write_results_to_file(initial_knowledge_errors, 'errors/initial_knowledge_link_prediction_errors_maxdth_' + str(max_dth), '' , (end - start))\n",
    "plot_results(initial_knowledge_results, 'initial_knowledge_link_prediction_maxdth_' + str(max_dth) + str(end-start),\n",
    "                  save_tikz = True)"
   ]
  },
  {
   "cell_type": "code",
   "execution_count": 25,
   "metadata": {},
   "outputs": [
    {
     "data": {
      "text/plain": [
       "<Figure size 432x288 with 0 Axes>"
      ]
     },
     "metadata": {},
     "output_type": "display_data"
    }
   ],
   "source": [
    "initial_knowledge_results = []\n",
    "initial_knowledge_errors = []\n",
    "samples = 1000\n",
    "max_dth = 8\n",
    "start = time.time()\n",
    "threshold = 8\n",
    "factory = VirtualEdgeFactory(distance_threshold=threshold, max_distance_threshold=max_dth)\n",
    "graph_edges = factory.generate_deterministic_graph_edges()\n",
    "arguments = {'algorithm': initial_knowledge_init, 'graph_edges': graph_edges,\n",
    "             'link_prediction': True, 'exponential_scale': True}\n",
    "topology_result, errors, length = routing_simulation.run_algorithm_for_graphs(50, samples, arguments)\n",
    "initial_knowledge_results.append(topology_result)\n",
    "initial_knowledge_errors.append(errors)\n",
    "end = time.time()\n",
    "write_results_to_file(initial_knowledge_results, 'results/initial_knowledge_link_prediction_maxdth_' + str(max_dth), '' , (end - start))\n",
    "write_results_to_file(initial_knowledge_errors, 'errors/initial_knowledge_link_prediction_errors_maxdth_' + str(max_dth), '' , (end - start))\n",
    "plot_results(initial_knowledge_results, 'initial_knowledge_link_prediction_maxdth_' + str(max_dth) + str(end-start),\n",
    "                  save_tikz = True)"
   ]
  },
  {
   "cell_type": "code",
   "execution_count": 4,
   "metadata": {},
   "outputs": [
    {
     "data": {
      "text/plain": [
       "<Figure size 432x288 with 0 Axes>"
      ]
     },
     "metadata": {},
     "output_type": "display_data"
    }
   ],
   "source": [
    "initial_knowledge_results = []\n",
    "initial_knowledge_errors = []\n",
    "samples = 1000\n",
    "max_dth = 2\n",
    "start = time.time()\n",
    "threshold = 2\n",
    "factory = VirtualEdgeFactory(distance_threshold=threshold, max_distance_threshold=max_dth)\n",
    "graph_edges = factory.generate_deterministic_graph_edges()\n",
    "arguments = {'algorithm': initial_knowledge_init, 'graph_edges': graph_edges,\n",
    "             'link_prediction': False, 'exponential_scale': True}\n",
    "topology_result, errors, length = routing_simulation.run_algorithm_for_graphs(50, samples, arguments)\n",
    "initial_knowledge_results.append(topology_result)\n",
    "initial_knowledge_errors.append(errors)\n",
    "end = time.time()\n",
    "write_results_to_file(initial_knowledge_results, 'results/initial_knowledge_maxdth_' + str(max_dth), '' , (end - start))\n",
    "write_results_to_file(initial_knowledge_errors, 'errors/initial_knowledge_errors_maxdth_' + str(max_dth), '' , (end - start))\n",
    "plot_results(initial_knowledge_results, 'initial_knowledge_maxdth_' + str(max_dth) + str(end-start),\n",
    "                  save_tikz = True)"
   ]
  },
  {
   "cell_type": "code",
   "execution_count": 8,
   "metadata": {},
   "outputs": [
    {
     "name": "stdout",
     "output_type": "stream",
     "text": [
      "[([4.686, 33339470.2055, 56488873.78066667, 88341036.17275, 106049716.1462, 97477000.5555, 98843009.19342858, 100248612.375625, 114955418.19311112, 128586980.92270002, 135701190.11945453, 148413878.11725, 163026195.14607692, 157782961.67357144, 166426572.383, 172485945.203375, 167340921.8257059, 169505874.29644445, 172965045.8651579, 179062515.30345002, 186512027.3922857, 187785489.53640908, 182155106.87647828, 189495431.504625, 186854386.59107998, 194066163.0569231, 199665365.54855558, 192331701.9127143, 200123021.32403448, 199132672.8954, 204796332.47338712, 198332873.978625, 203050456.32048488, 202579839.7135588, 195100477.16457143, 207319172.84436113, 205996575.0455946, 203402708.7705, 210253330.47020513, 206880217.094775, 211140608.94612196, 197771226.646, 206268595.75113952, 201467560.6829318, 212965751.56377777, 207628807.93773913, 202228688.3096383, 208772841.8582292, 210807717.75734693, 207785313.63958], [43.314, 41.5045, 39.800333333333334, 38.2745, 36.9924, 34.97783333333333, 32.847857142857144, 30.635, 28.607777777777777, 26.766, 25.305545454545456, 23.659583333333337, 22.43523076923077, 21.37128571428572, 20.254466666666666, 19.338375, 18.500705882352943, 17.715444444444444, 16.939736842105262, 16.5281, 15.916190476190476, 15.36040909090909, 14.895826086956522, 14.495666666666668, 14.14496, 13.745, 13.398333333333333, 13.100714285714286, 12.780827586206899, 12.447266666666666, 12.283451612903228, 11.91221875, 11.72878787878788, 11.420588235294119, 11.298571428571428, 11.0405, 10.772918918918919, 10.591026315789474, 10.32748717948718, 9.9719, 9.799146341463414, 9.498261904761904, 9.398186046511627, 9.295659090909092, 9.104711111111111, 8.869804347826088, 8.697063829787236, 8.445375, 8.216591836734693, 7.99292], [43.314, 41.5045, 39.800333333333334, 38.2745, 36.9924, 34.97783333333333, 32.847857142857144, 30.635, 28.607777777777777, 26.766, 25.305545454545456, 23.659583333333337, 22.43523076923077, 21.37128571428572, 20.254466666666666, 19.338375, 18.500705882352943, 17.715444444444444, 16.939736842105262, 16.5281, 15.916190476190476, 15.36040909090909, 14.895826086956522, 14.495666666666668, 14.14496, 13.745, 13.398333333333333, 13.100714285714286, 12.780827586206899, 12.447266666666666, 12.283451612903228, 11.91221875, 11.72878787878788, 11.420588235294119, 11.298571428571428, 11.0405, 10.772918918918919, 10.591026315789474, 10.32748717948718, 9.9719, 9.799146341463414, 9.498261904761904, 9.398186046511627, 9.295659090909092, 9.104711111111111, 8.869804347826088, 8.697063829787236, 8.445375, 8.216591836734693, 7.99292], [4.686, 4.637, 4.613, 4.6185, 4.6302, 5.2435, 5.669285714285714, 5.92, 6.199222222222223, 6.4544, 6.537, 6.7575, 6.892538461538461, 6.951928571428571, 7.0456, 7.117875, 7.205411764705883, 7.239611111111111, 7.285684210526316, 7.34375, 7.389333333333333, 7.436181818181818, 7.419217391304348, 7.458583333333333, 7.5298, 7.564115384615385, 7.6088148148148145, 7.573392857142857, 7.664758620689655, 7.644833333333334, 7.698419354838709, 7.69440625, 7.705424242424242, 7.7140588235294105, 7.615085714285715, 7.559, 7.494027027027027, 7.394131578947368, 7.341589743589744, 7.276650000000001, 7.197268292682927, 7.104666666666666, 7.055953488372094, 6.97784090909091, 7.0114222222222224, 6.911304347826087, 6.847042553191489, 6.799083333333334, 6.783387755102042, 6.72072])]\n"
     ]
    }
   ],
   "source": [
    "print(initial_knowledge_results)"
   ]
  },
  {
   "cell_type": "code",
   "execution_count": 5,
   "metadata": {},
   "outputs": [
    {
     "data": {
      "text/plain": [
       "<Figure size 432x288 with 0 Axes>"
      ]
     },
     "metadata": {},
     "output_type": "display_data"
    }
   ],
   "source": [
    "initial_knowledge_results = []\n",
    "initial_knowledge_errors = []\n",
    "samples = 1000\n",
    "max_dth = 2\n",
    "start = time.time()\n",
    "threshold = 2\n",
    "factory = VirtualEdgeFactory(distance_threshold=threshold, max_distance_threshold=max_dth)\n",
    "graph_edges = factory.generate_deterministic_graph_edges()\n",
    "arguments = {'algorithm': initial_knowledge_init, 'graph_edges': graph_edges,\n",
    "             'link_prediction': True, 'exponential_scale': True}\n",
    "topology_result, errors, length = routing_simulation.run_algorithm_for_graphs(50, samples, arguments)\n",
    "initial_knowledge_results.append(topology_result)\n",
    "initial_knowledge_errors.append(errors)\n",
    "end = time.time()\n",
    "write_results_to_file(initial_knowledge_results, 'results/initial_knowledge_link_prediction_maxdth_' + str(max_dth), '' , (end - start))\n",
    "write_results_to_file(initial_knowledge_errors, 'errors/initial_knowledge_link_prediction_errors_maxdth_' + str(max_dth), '' , (end - start))\n",
    "plot_results(initial_knowledge_results, 'initial_knowledge_link_prediction_maxdth_' + str(max_dth) + str(end-start),\n",
    "                  save_tikz = True)"
   ]
  },
  {
   "cell_type": "code",
   "execution_count": 29,
   "metadata": {},
   "outputs": [
    {
     "data": {
      "text/plain": [
       "<Figure size 432x288 with 0 Axes>"
      ]
     },
     "metadata": {},
     "output_type": "display_data"
    }
   ],
   "source": [
    "initial_knowledge_results = []\n",
    "initial_knowledge_errors = []\n",
    "samples = 1000\n",
    "max_dth = 2\n",
    "start = time.time()\n",
    "threshold = 2\n",
    "factory = VirtualEdgeFactory(distance_threshold=threshold, max_distance_threshold=max_dth)\n",
    "graph_edges = factory.generate_deterministic_graph_edges()\n",
    "arguments = {'algorithm': initial_knowledge_init, 'graph_edges': graph_edges,\n",
    "             'link_prediction': False, 'exponential_scale': True}\n",
    "topology_result, errors, length = routing_simulation.run_algorithm_for_graphs(50, samples, arguments)\n",
    "initial_knowledge_results.append(topology_result)\n",
    "initial_knowledge_errors.append(errors)\n",
    "end = time.time()\n",
    "write_results_to_file(initial_knowledge_results, 'results/initial_knowledge_link_prediction_maxdth_' + str(max_dth), '' , (end - start))\n",
    "write_results_to_file(initial_knowledge_errors, 'errors/initial_knowledge_link_prediction_errors_maxdth_' + str(max_dth), '' , (end - start))\n",
    "plot_results(initial_knowledge_results, 'initial_knowledge_link_prediction_maxdth_' + str(max_dth) + str(end-start),\n",
    "                  save_tikz = True)"
   ]
  },
  {
   "cell_type": "code",
   "execution_count": 27,
   "metadata": {},
   "outputs": [
    {
     "data": {
      "text/plain": [
       "<Figure size 432x288 with 0 Axes>"
      ]
     },
     "metadata": {},
     "output_type": "display_data"
    }
   ],
   "source": [
    "plot_results(initial_knowledge_results, 'initial_knowledge_link_prediction_maxdth_' + str(max_dth) + str(end-start),\n",
    "                  save_tikz = True)"
   ]
  },
  {
   "cell_type": "code",
   "execution_count": null,
   "metadata": {},
   "outputs": [],
   "source": [
    "initial_knowledge_results = []\n",
    "samples = 1000\n",
    "max_dth = 8\n",
    "start = time.time()\n",
    "threshold = 8\n",
    "factory = VirtualEdgeFactory(distance_threshold=threshold, max_distance_threshold=max_dth)\n",
    "graph_edges = factory.generate_deterministic_graph_edges()\n",
    "arguments = {'algorithm': initial_knowledge_init, 'graph_edges': graph_edges,\n",
    "             'link_prediction': True, 'exponential_scale': True}\n",
    "topology_result, length = routing_simulation.run_algorithm_for_graphs(50, samples, arguments)\n",
    "initial_knowledge_results.append(topology_result)\n",
    "end = time.time()\n",
    "write_results_to_file(initial_knowledge_results, 'initial_knowledge_link_prediction_maxdth_' + str(max_dth), '' , (end - start))\n",
    "plot_results(initial_knowledge_results, 'initial_knowledge_link_prediction_maxdth_' + str(max_dth) + str(end-start),\n",
    "                  save_tikz = True)"
   ]
  },
  {
   "cell_type": "code",
   "execution_count": null,
   "metadata": {},
   "outputs": [],
   "source": [
    "initial_knowledge_results = []\n",
    "samples = 1000\n",
    "max_dth = 4\n",
    "start = time.time()\n",
    "threshold = 4\n",
    "factory = VirtualEdgeFactory(distance_threshold=threshold, max_distance_threshold=max_dth)\n",
    "graph_edges = factory.generate_deterministic_graph_edges()\n",
    "arguments = {'algorithm': initial_knowledge_init, 'graph_edges': graph_edges,\n",
    "             'link_prediction': True, 'exponential_scale': True}\n",
    "topology_result, length = routing_simulation.run_algorithm_for_graphs(50, samples, arguments)\n",
    "initial_knowledge_results.append(topology_result)\n",
    "end = time.time()\n",
    "write_results_to_file(initial_knowledge_results, 'initial_knowledge_link_prediction_maxdth_' + str(max_dth), '' , (end - start))\n",
    "plot_results(initial_knowledge_results, 'initial_knowledge_link_prediction_maxdth_' + str(max_dth) + str(end-start),\n",
    "                  save_tikz = True)"
   ]
  },
  {
   "cell_type": "code",
   "execution_count": 22,
   "metadata": {},
   "outputs": [
    {
     "ename": "IndexError",
     "evalue": "list index out of range",
     "output_type": "error",
     "traceback": [
      "\u001b[0;31m---------------------------------------------------------------------------\u001b[0m",
      "\u001b[0;31mIndexError\u001b[0m                                Traceback (most recent call last)",
      "\u001b[0;32m<ipython-input-22-1becfddd7317>\u001b[0m in \u001b[0;36m<module>\u001b[0;34m()\u001b[0m\n\u001b[1;32m      1\u001b[0m plot_results([[[0] + initial_knowledge_results[0][0]]], 'initial_knowledge_link_prediction_maxdth_' + str(max_dth) + str(end-start),\n\u001b[0;32m----> 2\u001b[0;31m                   save_tikz = True)\n\u001b[0m",
      "\u001b[0;32m~/Documents/eit/thesis/implementation/quantum_routing/notebooks/lib/plot.py\u001b[0m in \u001b[0;36mplot_results\u001b[0;34m(results, title, topology_names, measure_names, plot_type, save_tikz)\u001b[0m\n\u001b[1;32m    111\u001b[0m     \u001b[0;32mfor\u001b[0m \u001b[0mmeasure_index\u001b[0m \u001b[0;32min\u001b[0m \u001b[0mrange\u001b[0m\u001b[0;34m(\u001b[0m\u001b[0mlen\u001b[0m\u001b[0;34m(\u001b[0m\u001b[0mmeasure_names\u001b[0m\u001b[0;34m)\u001b[0m\u001b[0;34m)\u001b[0m\u001b[0;34m:\u001b[0m\u001b[0;34m\u001b[0m\u001b[0;34m\u001b[0m\u001b[0m\n\u001b[1;32m    112\u001b[0m         plot_specific_measure(results, title, topology_names, measure_names, measure_index,\n\u001b[0;32m--> 113\u001b[0;31m                               plot_type=plot_type, save_tikz=save_tikz)\n\u001b[0m",
      "\u001b[0;32m~/Documents/eit/thesis/implementation/quantum_routing/notebooks/lib/plot.py\u001b[0m in \u001b[0;36mplot_specific_measure\u001b[0;34m(results, algo_name, topology_names, measures, measure_index, number_of_samples, plot_type, defined_color, save_tikz)\u001b[0m\n\u001b[1;32m     49\u001b[0m \u001b[0;34m\u001b[0m\u001b[0m\n\u001b[1;32m     50\u001b[0m     \u001b[0;32mfor\u001b[0m \u001b[0mindex\u001b[0m \u001b[0;32min\u001b[0m \u001b[0mrange\u001b[0m\u001b[0;34m(\u001b[0m\u001b[0mlen\u001b[0m\u001b[0;34m(\u001b[0m\u001b[0mresults\u001b[0m\u001b[0;34m)\u001b[0m\u001b[0;34m)\u001b[0m\u001b[0;34m:\u001b[0m\u001b[0;34m\u001b[0m\u001b[0;34m\u001b[0m\u001b[0m\n\u001b[0;32m---> 51\u001b[0;31m         \u001b[0mplt\u001b[0m\u001b[0;34m.\u001b[0m\u001b[0mplot\u001b[0m\u001b[0;34m(\u001b[0m\u001b[0mresults\u001b[0m\u001b[0;34m[\u001b[0m\u001b[0mindex\u001b[0m\u001b[0;34m]\u001b[0m\u001b[0;34m[\u001b[0m\u001b[0mmeasure_index\u001b[0m\u001b[0;34m]\u001b[0m\u001b[0;34m,\u001b[0m \u001b[0mcolor\u001b[0m\u001b[0;34m=\u001b[0m\u001b[0mcolors\u001b[0m\u001b[0;34m[\u001b[0m\u001b[0mindex\u001b[0m\u001b[0;34m]\u001b[0m\u001b[0;34m,\u001b[0m \u001b[0mlabel\u001b[0m\u001b[0;34m=\u001b[0m\u001b[0mtopology_names\u001b[0m\u001b[0;34m[\u001b[0m\u001b[0mindex\u001b[0m\u001b[0;34m]\u001b[0m\u001b[0;34m)\u001b[0m\u001b[0;34m\u001b[0m\u001b[0;34m\u001b[0m\u001b[0m\n\u001b[0m\u001b[1;32m     52\u001b[0m \u001b[0;34m\u001b[0m\u001b[0m\n\u001b[1;32m     53\u001b[0m     \u001b[0mplt\u001b[0m\u001b[0;34m.\u001b[0m\u001b[0mgrid\u001b[0m\u001b[0;34m(\u001b[0m\u001b[0mcolor\u001b[0m\u001b[0;34m=\u001b[0m\u001b[0;34m'b'\u001b[0m\u001b[0;34m,\u001b[0m \u001b[0mlinestyle\u001b[0m\u001b[0;34m=\u001b[0m\u001b[0;34m'-'\u001b[0m\u001b[0;34m,\u001b[0m \u001b[0mlinewidth\u001b[0m\u001b[0;34m=\u001b[0m\u001b[0;36m0.1\u001b[0m\u001b[0;34m)\u001b[0m\u001b[0;34m\u001b[0m\u001b[0;34m\u001b[0m\u001b[0m\n",
      "\u001b[0;31mIndexError\u001b[0m: list index out of range"
     ]
    },
    {
     "data": {
      "text/plain": [
       "<Figure size 432x288 with 0 Axes>"
      ]
     },
     "metadata": {},
     "output_type": "display_data"
    }
   ],
   "source": [
    "plot_results([[[0] + initial_knowledge_results[0][0]]], 'initial_knowledge_link_prediction_maxdth_' + str(max_dth) + str(end-start),\n",
    "                  save_tikz = True)"
   ]
  },
  {
   "cell_type": "code",
   "execution_count": 25,
   "metadata": {},
   "outputs": [
    {
     "name": "stdout",
     "output_type": "stream",
     "text": [
      "[([4.624, 33202271.4675, 72666835.964, 68491496.41025, 114225153.4954, 84399827.89083335, 97064321.368, 115042464.63025, 118442955.119, 129434102.74530001, 145078069.0868182, 141798198.9535833, 150803292.89476922, 152953401.48307145, 171723566.2063333, 174254295.215125, 169713719.93652943, 170803477.3811667, 175064467.7674737, 174331956.4938, 179961695.32133332, 179273442.41622728, 188961635.9498261, 191429551.434375, 191973781.66211998, 191427511.8136538, 189284320.56192592, 201196620.3661786, 196613918.68734485, 195762692.40773335, 199835215.91796774, 199307007.79321876, 202076777.65778786, 200933910.81561765, 203880822.86565715, 195716635.62658334, 206085051.09545946, 201826044.35152632, 203426378.3909487, 197738132.4716, 205346938.01860973, 205667045.39990476, 206370885.19481394, 212781724.35229546, 203919351.01606667, 203628758.9753913, 212354776.26053193, 209678942.2780208, 204752782.61646938, 207615771.9644], [43.376, 41.506, 39.91266666666667, 38.23875, 37.0162, 34.88783333333333, 32.80328571428571, 30.71725, 28.63988888888889, 26.687, 25.071545454545454, 23.64225, 22.515538461538462, 21.385, 20.08273333333333, 19.20225, 18.54835294117647, 17.813055555555554, 17.15678947368421, 16.391849999999998, 15.821952380952382, 15.551045454545454, 14.758521739130433, 14.505416666666667, 14.155080000000002, 13.600923076923078, 13.401666666666667, 13.136035714285715, 12.72651724137931, 12.483266666666667, 12.302193548387098, 11.91715625, 11.644636363636364, 11.632176470588234, 11.317685714285716, 11.13413888888889, 10.951513513513513, 10.61521052631579, 10.338461538461539, 10.168625, 9.865048780487802, 9.572904761904763, 9.374953488372093, 9.112295454545453, 9.010200000000001, 8.87554347826087, 8.611702127659575, 8.431625, 8.387224489795917, 8.20958], [43.376, 41.506, 39.91266666666667, 38.23875, 37.0162, 34.88783333333333, 32.80328571428571, 30.71725, 28.63988888888889, 26.687, 25.071545454545454, 23.64225, 22.515538461538462, 21.385, 20.08273333333333, 19.20225, 18.54835294117647, 17.813055555555554, 17.15678947368421, 16.391849999999998, 15.821952380952382, 15.551045454545454, 14.758521739130433, 14.505416666666667, 14.155080000000002, 13.600923076923078, 13.401666666666667, 13.136035714285715, 12.72651724137931, 12.483266666666667, 12.302193548387098, 11.91715625, 11.644636363636364, 11.632176470588234, 11.317685714285716, 11.13413888888889, 10.951513513513513, 10.61521052631579, 10.338461538461539, 10.168625, 9.865048780487802, 9.572904761904763, 9.374953488372093, 9.112295454545453, 9.010200000000001, 8.87554347826087, 8.611702127659575, 8.431625, 8.387224489795917, 8.20958], [4.624, 4.635, 4.591666666666666, 4.629, 4.6306, 5.289166666666667, 5.6888571428571435, 5.96625, 6.265888888888889, 6.5241, 6.622181818181818, 6.728083333333334, 6.832461538461538, 6.894357142857143, 7.103666666666666, 7.1634375, 7.197882352941177, 7.21638888888889, 7.26778947368421, 7.370100000000001, 7.395809523809524, 7.408272727272728, 7.488739130434783, 7.553, 7.578720000000001, 7.581769230769231, 7.562962962962963, 7.588857142857143, 7.642448275862069, 7.626233333333333, 7.638516129032258, 7.6893125, 7.735818181818182, 7.714117647058823, 7.636714285714286, 7.501277777777777, 7.467324324324325, 7.401921052631578, 7.314564102564102, 7.210675, 7.195, 7.139952380952381, 7.066093023255814, 7.047863636363636, 6.977444444444445, 6.899195652173913, 6.8905957446808515, 6.8335625, 6.7385918367346935, 6.700800000000001])]\n"
     ]
    }
   ],
   "source": [
    "print(initial_knowledge_results)"
   ]
  },
  {
   "cell_type": "code",
   "execution_count": 28,
   "metadata": {},
   "outputs": [],
   "source": [
    "errors = [14052787.283813752, 15512548.444426753, 15938180.758490603, 14636597.299596334, 15005074.680964256, 14806426.419196041, 14159752.717790408, 14100665.904824348, 12970633.485370442, 12800322.247418053, 13619801.32142465, 11723569.390860865, 12357126.447467156, 11256725.912710836, 11341344.677488044, 10699541.389570234, 10449570.817916958, 9986752.680693183, 9718031.314945964, 10066450.471311115, 9762508.927057298, 9418762.336577691, 9960124.299087306, 9634667.0312359, 9218560.784182277, 9019183.534941092, 8652715.491936082, 9000671.848813938, 8351418.508820505, 8137049.333310996, 8377831.406319919, 8224790.572680238, 8141749.971399171, 7718818.059313284, 8164477.335991687, 7804105.102044854, 7705255.014105725, 7973309.595307925, 7884428.184588531, 7553830.2613066565, 7201213.200539783, 7332487.297691033, 7092521.351432494, 7088637.611531493, 7186300.34376069, 7098264.62812757, 6839564.261969291, 7009867.906374476, 6747371.235291235]"
   ]
  },
  {
   "cell_type": "code",
   "execution_count": 12,
   "metadata": {},
   "outputs": [],
   "source": [
    "import math\n",
    "def magnitude(x):\n",
    "    return int(math.log10(x))"
   ]
  },
  {
   "cell_type": "code",
   "execution_count": 32,
   "metadata": {},
   "outputs": [
    {
     "name": "stdout",
     "output_type": "stream",
     "text": [
      "7.0\n"
     ]
    }
   ],
   "source": [
    "print(numpy.mean([magnitude(2*x) for x in errors]))"
   ]
  },
  {
   "cell_type": "code",
   "execution_count": 26,
   "metadata": {},
   "outputs": [],
   "source": [
    "errors2 = [13361863.51602362, 13681811.684499111, 15909578.220870774, 15099547.895703394, 13839556.247684509, 12482888.707812367, 11629203.408705054, 11423197.4843135, 11482997.380426235, 11786017.984863235, 11647241.415975867, 11715279.32987407, 10831922.12846658, 10874713.961516414, 11058813.776032299, 10223520.03923388, 9958918.795002988, 10129677.770712128, 9763660.25838891, 9605830.443799807, 9367228.9673616, 9269613.327841416, 9373099.184629368, 8877350.879852774, 9055133.742166778, 8872045.1046553, 8349011.543339746, 8401183.8184972, 8506062.310278947, 8434157.335688416, 7996439.803340898, 8111982.316777726, 8090179.0197945, 7564374.0761084845, 7640281.759620906, 7579819.126559981, 7729793.052964185, 7514738.455278678, 7304248.9503517095, 7478061.323390732, 7210082.439295418, 7188870.207892096, 6710995.230681038, 7299445.947615849, 6852408.512636721, 6629588.628859315, 7072025.640907527, 6818949.551198379, 6633421.325407949]"
   ]
  },
  {
   "cell_type": "code",
   "execution_count": 27,
   "metadata": {},
   "outputs": [
    {
     "name": "stdout",
     "output_type": "stream",
     "text": [
      "7.0\n"
     ]
    }
   ],
   "source": [
    "print(numpy.mean([magnitude(2*x) for x in errors2]))"
   ]
  },
  {
   "cell_type": "code",
   "execution_count": 25,
   "metadata": {},
   "outputs": [
    {
     "data": {
      "text/plain": [
       "[0.28149987772536106,\n",
       " 26723727.03204724,\n",
       " 27363623.368998222,\n",
       " 31819156.44174155,\n",
       " 30199095.791406788,\n",
       " 27679112.495369017,\n",
       " 24965777.415624734,\n",
       " 23258406.817410108,\n",
       " 22846394.968627,\n",
       " 22965994.76085247,\n",
       " 23572035.96972647,\n",
       " 23294482.831951734,\n",
       " 23430558.65974814,\n",
       " 21663844.25693316,\n",
       " 21749427.923032828,\n",
       " 22117627.552064598,\n",
       " 20447040.07846776,\n",
       " 19917837.590005975,\n",
       " 20259355.541424256,\n",
       " 19527320.51677782,\n",
       " 19211660.887599614,\n",
       " 18734457.9347232,\n",
       " 18539226.655682832,\n",
       " 18746198.369258735,\n",
       " 17754701.759705547,\n",
       " 18110267.484333556,\n",
       " 17744090.2093106,\n",
       " 16698023.086679492,\n",
       " 16802367.6369944,\n",
       " 17012124.620557893,\n",
       " 16868314.67137683,\n",
       " 15992879.606681796,\n",
       " 16223964.633555451,\n",
       " 16180358.039589,\n",
       " 15128748.152216969,\n",
       " 15280563.519241812,\n",
       " 15159638.253119962,\n",
       " 15459586.10592837,\n",
       " 15029476.910557356,\n",
       " 14608497.900703419,\n",
       " 14956122.646781463,\n",
       " 14420164.878590835,\n",
       " 14377740.415784191,\n",
       " 13421990.461362077,\n",
       " 14598891.895231698,\n",
       " 13704817.025273442,\n",
       " 13259177.25771863,\n",
       " 14144051.281815054,\n",
       " 13637899.102396758,\n",
       " 13266842.650815899]"
      ]
     },
     "execution_count": 25,
     "metadata": {},
     "output_type": "execute_result"
    }
   ],
   "source": [
    "[2*x for x in errors2]"
   ]
  },
  {
   "cell_type": "code",
   "execution_count": 18,
   "metadata": {},
   "outputs": [
    {
     "data": {
      "text/plain": [
       "-1"
      ]
     },
     "execution_count": 18,
     "metadata": {},
     "output_type": "execute_result"
    }
   ],
   "source": [
    "magnitude(0.1)"
   ]
  },
  {
   "cell_type": "code",
   "execution_count": null,
   "metadata": {},
   "outputs": [],
   "source": []
  }
 ],
 "metadata": {
  "kernelspec": {
   "display_name": "Python 3",
   "language": "python",
   "name": "python3"
  },
  "language_info": {
   "codemirror_mode": {
    "name": "ipython",
    "version": 3
   },
   "file_extension": ".py",
   "mimetype": "text/x-python",
   "name": "python",
   "nbconvert_exporter": "python",
   "pygments_lexer": "ipython3",
   "version": "3.7.4"
  }
 },
 "nbformat": 4,
 "nbformat_minor": 2
}
